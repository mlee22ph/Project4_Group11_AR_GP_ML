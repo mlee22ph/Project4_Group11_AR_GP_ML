{
 "cells": [
  {
   "cell_type": "markdown",
   "id": "795d44f5-00e7-4d50-9e92-b7b0784d8d21",
   "metadata": {},
   "source": [
    "## Importing Necessary Modules"
   ]
  },
  {
   "cell_type": "code",
   "execution_count": null,
   "id": "605ae40d-feee-4cc9-80a0-7902de3868bb",
   "metadata": {
    "tags": []
   },
   "outputs": [],
   "source": [
    "# Import the dependencies\n",
    "import os\n",
    "from pathlib import Path\n",
    "import pandas as pd\n",
    "from sklearn.preprocessing import LabelEncoder,MinMaxScaler"
   ]
  },
  {
   "cell_type": "code",
   "execution_count": null,
   "id": "f2f00e08-f994-4bfc-9031-49a4091d6924",
   "metadata": {
    "tags": []
   },
   "outputs": [],
   "source": [
    "data = Path(\"../Resources/cleaned_skin_metadata.csv\")\n",
    "df = pd.read_csv(data)\n",
    "df.head()"
   ]
  },
  {
   "cell_type": "code",
   "execution_count": null,
   "id": "713c571e-089b-4a71-af62-35e1af76552d",
   "metadata": {
    "tags": []
   },
   "outputs": [],
   "source": [
    "# Drop columns that are not needed for modeling\n",
    "df = df.drop(['lesion_id', 'image_id', 'dx','dx_type','diagnosis', 'result'], axis=1)\n",
    "\n",
    "# Encode categorical variables using LabelEncoder\n",
    "label_encoder = LabelEncoder()\n",
    "df['sex'] = label_encoder.fit_transform(df['sex'])\n",
    "df['localization'] = label_encoder.fit_transform(df['localization'])"
   ]
  },
  {
   "cell_type": "code",
   "execution_count": null,
   "id": "5b79cd71-dafa-4b49-ad2f-587547f8fe13",
   "metadata": {
    "tags": []
   },
   "outputs": [],
   "source": [
    "# Assuming 'result_label' is the target variable\n",
    "X = df.drop('result_label', axis=1)\n",
    "y = df['result_label']"
   ]
  },
  {
   "cell_type": "code",
   "execution_count": null,
   "id": "72ebb9c8-7605-402c-ba58-ea54bc6136da",
   "metadata": {
    "tags": []
   },
   "outputs": [],
   "source": [
    "# Split our data into training and testing\n",
    "from sklearn.model_selection import train_test_split\n",
    "\n",
    "X_train, X_test, y_train, y_test = train_test_split(X, \n",
    "                                                    y, \n",
    "                                                    random_state=1, \n",
    "                                                    stratify=y)\n",
    "X_train.shape"
   ]
  },
  {
   "cell_type": "code",
   "execution_count": null,
   "id": "822d73a8-bfe4-411e-9fe6-5ecb35d849eb",
   "metadata": {
    "tags": []
   },
   "outputs": [],
   "source": [
    "# Normalize only numeric columns using MinMaxScaler\n",
    "numeric_columns = X.select_dtypes(include=['float64', 'int64']).columns\n",
    "scaler = MinMaxScaler()\n",
    "X_train[numeric_columns] = scaler.fit_transform(X_train[numeric_columns])\n",
    "X_test[numeric_columns] = scaler.transform(X_test[numeric_columns])"
   ]
  },
  {
   "cell_type": "code",
   "execution_count": null,
   "id": "4b8f7df5-7df5-491d-bc19-f864f183a42d",
   "metadata": {
    "tags": []
   },
   "outputs": [],
   "source": [
    "# Create a Logistic Regression Model\n",
    "from sklearn.linear_model import LogisticRegression\n",
    "classifier = LogisticRegression(solver='lbfgs',\n",
    "                                max_iter=200,\n",
    "                                random_state=1)\n",
    "classifier"
   ]
  },
  {
   "cell_type": "code",
   "execution_count": null,
   "id": "8e88d91e-89d6-4988-86a2-602fd2733285",
   "metadata": {
    "tags": []
   },
   "outputs": [],
   "source": [
    "# Fit (train) or model using the training data\n",
    "lr_model = classifier.fit(X_train, y_train)"
   ]
  },
  {
   "cell_type": "code",
   "execution_count": null,
   "id": "d6f92791-7d7f-4854-b49b-34458dd54726",
   "metadata": {
    "tags": []
   },
   "outputs": [],
   "source": [
    "# Score the model using the test data\n",
    "print(f\"Training Data Score: {classifier.score(X_train, y_train)}\")\n",
    "print(f\"Testing Data Score: {classifier.score(X_test, y_test)}\")"
   ]
  },
  {
   "cell_type": "code",
   "execution_count": null,
   "id": "a374acb1-426e-4140-9d47-3fa686574a83",
   "metadata": {
    "tags": []
   },
   "outputs": [],
   "source": [
    "# Make predictions\n",
    "predictions = classifier.predict(X_test)\n",
    "results = pd.DataFrame({\"Prediction\": predictions, \"Actual\": y_test}).reset_index(drop=True)\n",
    "results.head(10)"
   ]
  },
  {
   "cell_type": "code",
   "execution_count": null,
   "id": "9e0b6925-2dfe-420e-a718-7de1fe7ed4da",
   "metadata": {
    "tags": []
   },
   "outputs": [],
   "source": [
    "# Calculate the Accuracy Score\n",
    "from sklearn.metrics import accuracy_score\n",
    "# Display the accuracy score for the test dataset.\n",
    "accuracy_score(y_test, predictions)"
   ]
  },
  {
   "cell_type": "code",
   "execution_count": null,
   "id": "e21eebc5-cff4-456c-9da5-d5d38d22b0d5",
   "metadata": {
    "tags": []
   },
   "outputs": [],
   "source": [
    "#Generate training predictions\n",
    "training_predictions = lr_model.predict(X_train)\n",
    "\n",
    "#Generate testing predictions\n",
    "testing_predictions = classifier.predict(X_test)\n"
   ]
  },
  {
   "cell_type": "code",
   "execution_count": null,
   "id": "bd8fdd7a-2b92-49d2-a31c-d7da293ac8b6",
   "metadata": {
    "tags": []
   },
   "outputs": [],
   "source": [
    "# Import the model for sklearn confusion matrix\n",
    "from sklearn.metrics import confusion_matrix\n",
    "\n",
    "# Create and save the confusion matrix for the training data\n",
    "training_matrix = confusion_matrix(y_train, training_predictions)\n",
    "\n",
    "# Print the confusion matrix for the training data\n",
    "print(training_matrix)"
   ]
  },
  {
   "cell_type": "code",
   "execution_count": null,
   "id": "abec08a7-3fb2-4575-becc-53a15e782714",
   "metadata": {
    "tags": []
   },
   "outputs": [],
   "source": [
    "# Create and save the confusion matrix for the testing data\n",
    "test_matrix = confusion_matrix(y_test, testing_predictions)\n",
    "\n",
    "# Print the confusion matrix for the testing data\n",
    "print(test_matrix)"
   ]
  },
  {
   "cell_type": "code",
   "execution_count": null,
   "id": "546572f1-f308-4853-a6a4-57b10e941860",
   "metadata": {
    "tags": []
   },
   "outputs": [],
   "source": [
    "from sklearn.metrics import classification_report\n",
    "# Create and save the training classification report\n",
    "training_report = classification_report(y_train, training_predictions)\n",
    "\n",
    "# Print the training classification report\n",
    "print(training_report)"
   ]
  },
  {
   "cell_type": "code",
   "execution_count": null,
   "id": "6ce29abe-456c-402a-83df-399b6afb215e",
   "metadata": {
    "tags": []
   },
   "outputs": [],
   "source": [
    "# Create and save the testing classification report\n",
    "testing_report = classification_report(y_test, testing_predictions)\n",
    "\n",
    "# Print the testing classification report\n",
    "print(testing_report)"
   ]
  },
  {
   "cell_type": "code",
   "execution_count": null,
   "id": "f67153ff-67a8-4990-bfbb-0157a2d11447",
   "metadata": {},
   "outputs": [],
   "source": []
  },
  {
   "cell_type": "code",
   "execution_count": null,
   "id": "267f4013-c1cf-4dd8-b756-32ca7a454125",
   "metadata": {},
   "outputs": [],
   "source": []
  }
 ],
 "metadata": {
  "kernelspec": {
   "display_name": "PandasData",
   "language": "python",
   "name": "pandasdata"
  },
  "language_info": {
   "codemirror_mode": {
    "name": "ipython",
    "version": 3
   },
   "file_extension": ".py",
   "mimetype": "text/x-python",
   "name": "python",
   "nbconvert_exporter": "python",
   "pygments_lexer": "ipython3",
   "version": "3.11.3"
  }
 },
 "nbformat": 4,
 "nbformat_minor": 5
}
