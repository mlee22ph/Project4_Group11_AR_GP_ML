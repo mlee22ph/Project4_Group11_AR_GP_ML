{
 "cells": [
  {
   "cell_type": "code",
   "execution_count": 222,
   "id": "d7c717e3-169f-44f3-9173-440c728d8195",
   "metadata": {
    "tags": []
   },
   "outputs": [],
   "source": [
    "import os\n",
    "from pathlib import Path\n",
    "import pandas as pd\n",
    "from sklearn.preprocessing import LabelEncoder, StandardScaler\n",
    "from sklearn.model_selection import train_test_split\n",
    "from sklearn.svm import SVC\n",
    "from sklearn.metrics import accuracy_score, classification_report, confusion_matrix\n",
    "from sklearn.utils.class_weight import compute_class_weight\n",
    "from imblearn.under_sampling import RandomUnderSampler\n",
    "from joblib import dump, load\n",
    "\n",
    "import hvplot.pandas\n",
    "import seaborn as sns\n",
    "import matplotlib.pyplot as plt"
   ]
  },
  {
   "cell_type": "code",
   "execution_count": 223,
   "id": "6fcd6906-1934-4518-aef4-33b679d24c73",
   "metadata": {
    "tags": []
   },
   "outputs": [
    {
     "data": {
      "text/html": [
       "<div>\n",
       "<style scoped>\n",
       "    .dataframe tbody tr th:only-of-type {\n",
       "        vertical-align: middle;\n",
       "    }\n",
       "\n",
       "    .dataframe tbody tr th {\n",
       "        vertical-align: top;\n",
       "    }\n",
       "\n",
       "    .dataframe thead th {\n",
       "        text-align: right;\n",
       "    }\n",
       "</style>\n",
       "<table border=\"1\" class=\"dataframe\">\n",
       "  <thead>\n",
       "    <tr style=\"text-align: right;\">\n",
       "      <th></th>\n",
       "      <th>lesion_id</th>\n",
       "      <th>image_id</th>\n",
       "      <th>dx</th>\n",
       "      <th>dx_type</th>\n",
       "      <th>age</th>\n",
       "      <th>sex</th>\n",
       "      <th>localization</th>\n",
       "      <th>diagnosis</th>\n",
       "      <th>result</th>\n",
       "      <th>result_label</th>\n",
       "    </tr>\n",
       "  </thead>\n",
       "  <tbody>\n",
       "    <tr>\n",
       "      <th>0</th>\n",
       "      <td>HAM_0000118</td>\n",
       "      <td>ISIC_0027419</td>\n",
       "      <td>bkl</td>\n",
       "      <td>histo</td>\n",
       "      <td>80.0</td>\n",
       "      <td>male</td>\n",
       "      <td>scalp</td>\n",
       "      <td>Benign keratosis-like lesions</td>\n",
       "      <td>0</td>\n",
       "      <td>Benign</td>\n",
       "    </tr>\n",
       "    <tr>\n",
       "      <th>1</th>\n",
       "      <td>HAM_0000118</td>\n",
       "      <td>ISIC_0025030</td>\n",
       "      <td>bkl</td>\n",
       "      <td>histo</td>\n",
       "      <td>80.0</td>\n",
       "      <td>male</td>\n",
       "      <td>scalp</td>\n",
       "      <td>Benign keratosis-like lesions</td>\n",
       "      <td>0</td>\n",
       "      <td>Benign</td>\n",
       "    </tr>\n",
       "    <tr>\n",
       "      <th>2</th>\n",
       "      <td>HAM_0002730</td>\n",
       "      <td>ISIC_0026769</td>\n",
       "      <td>bkl</td>\n",
       "      <td>histo</td>\n",
       "      <td>80.0</td>\n",
       "      <td>male</td>\n",
       "      <td>scalp</td>\n",
       "      <td>Benign keratosis-like lesions</td>\n",
       "      <td>0</td>\n",
       "      <td>Benign</td>\n",
       "    </tr>\n",
       "    <tr>\n",
       "      <th>3</th>\n",
       "      <td>HAM_0002730</td>\n",
       "      <td>ISIC_0025661</td>\n",
       "      <td>bkl</td>\n",
       "      <td>histo</td>\n",
       "      <td>80.0</td>\n",
       "      <td>male</td>\n",
       "      <td>scalp</td>\n",
       "      <td>Benign keratosis-like lesions</td>\n",
       "      <td>0</td>\n",
       "      <td>Benign</td>\n",
       "    </tr>\n",
       "    <tr>\n",
       "      <th>4</th>\n",
       "      <td>HAM_0001466</td>\n",
       "      <td>ISIC_0031633</td>\n",
       "      <td>bkl</td>\n",
       "      <td>histo</td>\n",
       "      <td>75.0</td>\n",
       "      <td>male</td>\n",
       "      <td>ear</td>\n",
       "      <td>Benign keratosis-like lesions</td>\n",
       "      <td>0</td>\n",
       "      <td>Benign</td>\n",
       "    </tr>\n",
       "  </tbody>\n",
       "</table>\n",
       "</div>"
      ],
      "text/plain": [
       "     lesion_id      image_id   dx dx_type   age   sex localization  \\\n",
       "0  HAM_0000118  ISIC_0027419  bkl   histo  80.0  male        scalp   \n",
       "1  HAM_0000118  ISIC_0025030  bkl   histo  80.0  male        scalp   \n",
       "2  HAM_0002730  ISIC_0026769  bkl   histo  80.0  male        scalp   \n",
       "3  HAM_0002730  ISIC_0025661  bkl   histo  80.0  male        scalp   \n",
       "4  HAM_0001466  ISIC_0031633  bkl   histo  75.0  male          ear   \n",
       "\n",
       "                        diagnosis  result result_label  \n",
       "0  Benign keratosis-like lesions        0       Benign  \n",
       "1  Benign keratosis-like lesions        0       Benign  \n",
       "2  Benign keratosis-like lesions        0       Benign  \n",
       "3  Benign keratosis-like lesions        0       Benign  \n",
       "4  Benign keratosis-like lesions        0       Benign  "
      ]
     },
     "execution_count": 223,
     "metadata": {},
     "output_type": "execute_result"
    }
   ],
   "source": [
    "# Load your dataset\n",
    "data = Path(\"../Resources/cleaned_skin_metadata.csv\")\n",
    "df = pd.read_csv(data)\n",
    "df.head()"
   ]
  },
  {
   "cell_type": "code",
   "execution_count": 224,
   "id": "40ecc7b9-8588-4bde-96a1-e11998c1159e",
   "metadata": {
    "tags": []
   },
   "outputs": [
    {
     "data": {
      "text/html": [
       "<div>\n",
       "<style scoped>\n",
       "    .dataframe tbody tr th:only-of-type {\n",
       "        vertical-align: middle;\n",
       "    }\n",
       "\n",
       "    .dataframe tbody tr th {\n",
       "        vertical-align: top;\n",
       "    }\n",
       "\n",
       "    .dataframe thead th {\n",
       "        text-align: right;\n",
       "    }\n",
       "</style>\n",
       "<table border=\"1\" class=\"dataframe\">\n",
       "  <thead>\n",
       "    <tr style=\"text-align: right;\">\n",
       "      <th></th>\n",
       "      <th>dx_type</th>\n",
       "      <th>age</th>\n",
       "      <th>sex</th>\n",
       "      <th>localization</th>\n",
       "      <th>result</th>\n",
       "    </tr>\n",
       "  </thead>\n",
       "  <tbody>\n",
       "    <tr>\n",
       "      <th>0</th>\n",
       "      <td>histo</td>\n",
       "      <td>80.0</td>\n",
       "      <td>male</td>\n",
       "      <td>scalp</td>\n",
       "      <td>0</td>\n",
       "    </tr>\n",
       "    <tr>\n",
       "      <th>1</th>\n",
       "      <td>histo</td>\n",
       "      <td>80.0</td>\n",
       "      <td>male</td>\n",
       "      <td>scalp</td>\n",
       "      <td>0</td>\n",
       "    </tr>\n",
       "    <tr>\n",
       "      <th>2</th>\n",
       "      <td>histo</td>\n",
       "      <td>80.0</td>\n",
       "      <td>male</td>\n",
       "      <td>scalp</td>\n",
       "      <td>0</td>\n",
       "    </tr>\n",
       "    <tr>\n",
       "      <th>3</th>\n",
       "      <td>histo</td>\n",
       "      <td>80.0</td>\n",
       "      <td>male</td>\n",
       "      <td>scalp</td>\n",
       "      <td>0</td>\n",
       "    </tr>\n",
       "    <tr>\n",
       "      <th>4</th>\n",
       "      <td>histo</td>\n",
       "      <td>75.0</td>\n",
       "      <td>male</td>\n",
       "      <td>ear</td>\n",
       "      <td>0</td>\n",
       "    </tr>\n",
       "  </tbody>\n",
       "</table>\n",
       "</div>"
      ],
      "text/plain": [
       "  dx_type   age   sex localization  result\n",
       "0   histo  80.0  male        scalp       0\n",
       "1   histo  80.0  male        scalp       0\n",
       "2   histo  80.0  male        scalp       0\n",
       "3   histo  80.0  male        scalp       0\n",
       "4   histo  75.0  male          ear       0"
      ]
     },
     "execution_count": 224,
     "metadata": {},
     "output_type": "execute_result"
    }
   ],
   "source": [
    "# Drop columns that are not needed for modeling\n",
    "df1 = df.drop(['result_label','lesion_id','image_id','dx', 'diagnosis'], axis=1)\n",
    "df1.head()"
   ]
  },
  {
   "cell_type": "code",
   "execution_count": 225,
   "id": "fe855a3d-d611-4041-a2b4-3be71e4d515c",
   "metadata": {
    "tags": []
   },
   "outputs": [],
   "source": [
    "df1['localization'] = df1['localization'].str.capitalize()"
   ]
  },
  {
   "cell_type": "code",
   "execution_count": 226,
   "id": "4642dea1-f9b3-4ea5-b76d-cb607cdb3762",
   "metadata": {
    "tags": []
   },
   "outputs": [
    {
     "name": "stdout",
     "output_type": "stream",
     "text": [
      "['male' 'female' 'unknown']\n"
     ]
    }
   ],
   "source": [
    "unique_sex_values = df['sex'].unique()\n",
    "print(unique_sex_values)"
   ]
  },
  {
   "cell_type": "code",
   "execution_count": 227,
   "id": "039f262d-ac52-4530-9260-d612552ecf4c",
   "metadata": {
    "tags": []
   },
   "outputs": [
    {
     "name": "stdout",
     "output_type": "stream",
     "text": [
      "['scalp' 'ear' 'face' 'back' 'trunk' 'chest' 'upper extremity' 'abdomen'\n",
      " 'unknown' 'lower extremity' 'genital' 'neck' 'hand' 'foot' 'acral']\n"
     ]
    }
   ],
   "source": [
    "unique_loc_values = df['localization'].unique()\n",
    "print(unique_loc_values)"
   ]
  },
  {
   "cell_type": "code",
   "execution_count": 228,
   "id": "01eb1c33-4cdf-4a40-a657-846d9cb84b42",
   "metadata": {
    "tags": []
   },
   "outputs": [
    {
     "data": {
      "text/plain": [
       "['dx_type_label_encoder.joblib']"
      ]
     },
     "execution_count": 228,
     "metadata": {},
     "output_type": "execute_result"
    }
   ],
   "source": [
    "# Encode categorical variables using LabelEncoder and One-Hot Encoding\n",
    "label_encoder = LabelEncoder()\n",
    "\n",
    "dx_types = ['histo', 'follow_up', 'consensus', 'confocal']\n",
    "label_encoder = LabelEncoder()\n",
    "label_encoder.fit(dx_types)\n",
    "# Now transform the 'dx_type' column in your DataFrame\n",
    "df1['dx_type'] = label_encoder.transform(df1['dx_type'])\n",
    "\n",
    "# Save the fitted LabelEncoder\n",
    "dump(label_encoder, 'dx_type_label_encoder.joblib')"
   ]
  },
  {
   "cell_type": "code",
   "execution_count": 229,
   "id": "27ed57f9-249b-4385-8fb4-110148a98c8c",
   "metadata": {
    "tags": []
   },
   "outputs": [],
   "source": [
    "# diagnosis_label_encoder = LabelEncoder()\n",
    "# # Assuming diagnosis_types contains all categories for 'diagnosis'\n",
    "# diagnosis_types = ['Actinic k','Benign ke','Actinic keratoses','Benign keratosis-like lesions ',  'Basal cell carcinoma', 'Dermatofibroma', 'Melanocytic nevi', 'Melanoma', 'Vascular lesions']\n",
    "# diagnosis_label_encoder.fit(diagnosis_types)\n",
    "\n",
    "# df1['diagnosis'] = diagnosis_label_encoder.transform(df1['diagnosis'])\n",
    "\n",
    "# # Save the fitted LabelEncoder\n",
    "# dump(diagnosis_label_encoder, 'diagnosis_label_encoder.joblib')"
   ]
  },
  {
   "cell_type": "code",
   "execution_count": 230,
   "id": "59550972-7e86-4757-af36-21088d4d8c63",
   "metadata": {
    "tags": []
   },
   "outputs": [],
   "source": [
    "# # Label encode ordinal categorical columns\n",
    "# df1['dx_type'] = label_encoder.fit_transform(df1['dx_type'])\n",
    "# df1['diagnosis'] = label_encoder.fit_transform(df1['diagnosis'])"
   ]
  },
  {
   "cell_type": "code",
   "execution_count": 231,
   "id": "bb727da0-e44d-449b-a50d-0062ffcc42bc",
   "metadata": {
    "tags": []
   },
   "outputs": [],
   "source": [
    "# One-hot encode nominal categorical columns\n",
    "df1 = pd.get_dummies(df1, columns=['sex', 'localization'])"
   ]
  },
  {
   "cell_type": "code",
   "execution_count": 232,
   "id": "ead06887-1caa-43f3-9005-2a8733d15195",
   "metadata": {
    "tags": []
   },
   "outputs": [
    {
     "data": {
      "text/html": [
       "<div>\n",
       "<style scoped>\n",
       "    .dataframe tbody tr th:only-of-type {\n",
       "        vertical-align: middle;\n",
       "    }\n",
       "\n",
       "    .dataframe tbody tr th {\n",
       "        vertical-align: top;\n",
       "    }\n",
       "\n",
       "    .dataframe thead th {\n",
       "        text-align: right;\n",
       "    }\n",
       "</style>\n",
       "<table border=\"1\" class=\"dataframe\">\n",
       "  <thead>\n",
       "    <tr style=\"text-align: right;\">\n",
       "      <th></th>\n",
       "      <th>dx_type</th>\n",
       "      <th>age</th>\n",
       "      <th>result</th>\n",
       "      <th>sex_female</th>\n",
       "      <th>sex_male</th>\n",
       "      <th>sex_unknown</th>\n",
       "      <th>localization_Abdomen</th>\n",
       "      <th>localization_Acral</th>\n",
       "      <th>localization_Back</th>\n",
       "      <th>localization_Chest</th>\n",
       "      <th>...</th>\n",
       "      <th>localization_Face</th>\n",
       "      <th>localization_Foot</th>\n",
       "      <th>localization_Genital</th>\n",
       "      <th>localization_Hand</th>\n",
       "      <th>localization_Lower extremity</th>\n",
       "      <th>localization_Neck</th>\n",
       "      <th>localization_Scalp</th>\n",
       "      <th>localization_Trunk</th>\n",
       "      <th>localization_Unknown</th>\n",
       "      <th>localization_Upper extremity</th>\n",
       "    </tr>\n",
       "  </thead>\n",
       "  <tbody>\n",
       "    <tr>\n",
       "      <th>0</th>\n",
       "      <td>3</td>\n",
       "      <td>80.0</td>\n",
       "      <td>0</td>\n",
       "      <td>0</td>\n",
       "      <td>1</td>\n",
       "      <td>0</td>\n",
       "      <td>0</td>\n",
       "      <td>0</td>\n",
       "      <td>0</td>\n",
       "      <td>0</td>\n",
       "      <td>...</td>\n",
       "      <td>0</td>\n",
       "      <td>0</td>\n",
       "      <td>0</td>\n",
       "      <td>0</td>\n",
       "      <td>0</td>\n",
       "      <td>0</td>\n",
       "      <td>1</td>\n",
       "      <td>0</td>\n",
       "      <td>0</td>\n",
       "      <td>0</td>\n",
       "    </tr>\n",
       "    <tr>\n",
       "      <th>1</th>\n",
       "      <td>3</td>\n",
       "      <td>80.0</td>\n",
       "      <td>0</td>\n",
       "      <td>0</td>\n",
       "      <td>1</td>\n",
       "      <td>0</td>\n",
       "      <td>0</td>\n",
       "      <td>0</td>\n",
       "      <td>0</td>\n",
       "      <td>0</td>\n",
       "      <td>...</td>\n",
       "      <td>0</td>\n",
       "      <td>0</td>\n",
       "      <td>0</td>\n",
       "      <td>0</td>\n",
       "      <td>0</td>\n",
       "      <td>0</td>\n",
       "      <td>1</td>\n",
       "      <td>0</td>\n",
       "      <td>0</td>\n",
       "      <td>0</td>\n",
       "    </tr>\n",
       "    <tr>\n",
       "      <th>2</th>\n",
       "      <td>3</td>\n",
       "      <td>80.0</td>\n",
       "      <td>0</td>\n",
       "      <td>0</td>\n",
       "      <td>1</td>\n",
       "      <td>0</td>\n",
       "      <td>0</td>\n",
       "      <td>0</td>\n",
       "      <td>0</td>\n",
       "      <td>0</td>\n",
       "      <td>...</td>\n",
       "      <td>0</td>\n",
       "      <td>0</td>\n",
       "      <td>0</td>\n",
       "      <td>0</td>\n",
       "      <td>0</td>\n",
       "      <td>0</td>\n",
       "      <td>1</td>\n",
       "      <td>0</td>\n",
       "      <td>0</td>\n",
       "      <td>0</td>\n",
       "    </tr>\n",
       "    <tr>\n",
       "      <th>3</th>\n",
       "      <td>3</td>\n",
       "      <td>80.0</td>\n",
       "      <td>0</td>\n",
       "      <td>0</td>\n",
       "      <td>1</td>\n",
       "      <td>0</td>\n",
       "      <td>0</td>\n",
       "      <td>0</td>\n",
       "      <td>0</td>\n",
       "      <td>0</td>\n",
       "      <td>...</td>\n",
       "      <td>0</td>\n",
       "      <td>0</td>\n",
       "      <td>0</td>\n",
       "      <td>0</td>\n",
       "      <td>0</td>\n",
       "      <td>0</td>\n",
       "      <td>1</td>\n",
       "      <td>0</td>\n",
       "      <td>0</td>\n",
       "      <td>0</td>\n",
       "    </tr>\n",
       "    <tr>\n",
       "      <th>4</th>\n",
       "      <td>3</td>\n",
       "      <td>75.0</td>\n",
       "      <td>0</td>\n",
       "      <td>0</td>\n",
       "      <td>1</td>\n",
       "      <td>0</td>\n",
       "      <td>0</td>\n",
       "      <td>0</td>\n",
       "      <td>0</td>\n",
       "      <td>0</td>\n",
       "      <td>...</td>\n",
       "      <td>0</td>\n",
       "      <td>0</td>\n",
       "      <td>0</td>\n",
       "      <td>0</td>\n",
       "      <td>0</td>\n",
       "      <td>0</td>\n",
       "      <td>0</td>\n",
       "      <td>0</td>\n",
       "      <td>0</td>\n",
       "      <td>0</td>\n",
       "    </tr>\n",
       "  </tbody>\n",
       "</table>\n",
       "<p>5 rows × 21 columns</p>\n",
       "</div>"
      ],
      "text/plain": [
       "   dx_type   age  result  sex_female  sex_male  sex_unknown  \\\n",
       "0        3  80.0       0           0         1            0   \n",
       "1        3  80.0       0           0         1            0   \n",
       "2        3  80.0       0           0         1            0   \n",
       "3        3  80.0       0           0         1            0   \n",
       "4        3  75.0       0           0         1            0   \n",
       "\n",
       "   localization_Abdomen  localization_Acral  localization_Back  \\\n",
       "0                     0                   0                  0   \n",
       "1                     0                   0                  0   \n",
       "2                     0                   0                  0   \n",
       "3                     0                   0                  0   \n",
       "4                     0                   0                  0   \n",
       "\n",
       "   localization_Chest  ...  localization_Face  localization_Foot  \\\n",
       "0                   0  ...                  0                  0   \n",
       "1                   0  ...                  0                  0   \n",
       "2                   0  ...                  0                  0   \n",
       "3                   0  ...                  0                  0   \n",
       "4                   0  ...                  0                  0   \n",
       "\n",
       "   localization_Genital  localization_Hand  localization_Lower extremity  \\\n",
       "0                     0                  0                             0   \n",
       "1                     0                  0                             0   \n",
       "2                     0                  0                             0   \n",
       "3                     0                  0                             0   \n",
       "4                     0                  0                             0   \n",
       "\n",
       "   localization_Neck  localization_Scalp  localization_Trunk  \\\n",
       "0                  0                   1                   0   \n",
       "1                  0                   1                   0   \n",
       "2                  0                   1                   0   \n",
       "3                  0                   1                   0   \n",
       "4                  0                   0                   0   \n",
       "\n",
       "   localization_Unknown  localization_Upper extremity  \n",
       "0                     0                             0  \n",
       "1                     0                             0  \n",
       "2                     0                             0  \n",
       "3                     0                             0  \n",
       "4                     0                             0  \n",
       "\n",
       "[5 rows x 21 columns]"
      ]
     },
     "execution_count": 232,
     "metadata": {},
     "output_type": "execute_result"
    }
   ],
   "source": [
    "df1.head()"
   ]
  },
  {
   "cell_type": "code",
   "execution_count": 233,
   "id": "d5f9c6a4-c4f7-4185-a615-c38d71c79dd0",
   "metadata": {
    "tags": []
   },
   "outputs": [],
   "source": [
    "# df1.rename(columns={'sex_female': 'female', 'sex_male': 'male', 'sex_unknown': 'unknown', 'localization_abdomen': 'abdomen', 'localization_acral': 'acral', 'localization_back': 'back', 'localization_chest': 'chest', 'localization_ear': 'ear', 'localization_face': 'face', 'localization_foot': 'foot', 'localization_genital': 'genital', 'localization_hand': 'hand', 'localization_lower extremity': 'lower extremity', 'localization_neck': 'neck', 'localization_scalp': 'scalp', 'localization_trunk': 'trunk', 'localization_unknown': 'unknown', 'localization_upper extremity': 'upper extremity'}, inplace=True)\n",
    "# df1.head()"
   ]
  },
  {
   "cell_type": "code",
   "execution_count": null,
   "id": "76afb047-b0a1-4b82-b0a6-89675066abd6",
   "metadata": {
    "tags": []
   },
   "outputs": [],
   "source": []
  },
  {
   "cell_type": "code",
   "execution_count": 234,
   "id": "759e689c-7ad2-47b6-9a5f-2689a85c628e",
   "metadata": {
    "tags": []
   },
   "outputs": [],
   "source": [
    "# Save the DataFrame to a CSV file\n",
    "csv_file_path = '../Resources//df1.csv'  \n",
    "df1.to_csv(csv_file_path, index=False)  "
   ]
  },
  {
   "cell_type": "code",
   "execution_count": 235,
   "id": "c259ff60-3c09-4e15-abc0-8e3bb2beff12",
   "metadata": {
    "tags": []
   },
   "outputs": [
    {
     "name": "stdout",
     "output_type": "stream",
     "text": [
      "Column \"dx_type\": 4 unique classes - [3 1 0 2]\n",
      "Column \"age\": 19 unique classes - [80.         75.         60.         70.         55.         85.\n",
      " 65.         40.         50.         45.         35.          0.\n",
      " 30.         51.86382808  5.         25.         20.         10.\n",
      " 15.        ]\n",
      "Column \"result\": 2 unique classes - [0 1]\n",
      "Column \"sex_female\": 2 unique classes - [0 1]\n",
      "Column \"sex_male\": 2 unique classes - [1 0]\n",
      "Column \"sex_unknown\": 2 unique classes - [0 1]\n",
      "Column \"localization_Abdomen\": 2 unique classes - [0 1]\n",
      "Column \"localization_Acral\": 2 unique classes - [0 1]\n",
      "Column \"localization_Back\": 2 unique classes - [0 1]\n",
      "Column \"localization_Chest\": 2 unique classes - [0 1]\n",
      "Column \"localization_Ear\": 2 unique classes - [0 1]\n",
      "Column \"localization_Face\": 2 unique classes - [0 1]\n",
      "Column \"localization_Foot\": 2 unique classes - [0 1]\n",
      "Column \"localization_Genital\": 2 unique classes - [0 1]\n",
      "Column \"localization_Hand\": 2 unique classes - [0 1]\n",
      "Column \"localization_Lower extremity\": 2 unique classes - [0 1]\n",
      "Column \"localization_Neck\": 2 unique classes - [0 1]\n",
      "Column \"localization_Scalp\": 2 unique classes - [1 0]\n",
      "Column \"localization_Trunk\": 2 unique classes - [0 1]\n",
      "Column \"localization_Unknown\": 2 unique classes - [0 1]\n",
      "Column \"localization_Upper extremity\": 2 unique classes - [0 1]\n"
     ]
    }
   ],
   "source": [
    "for column in df1.columns:\n",
    "    unique_classes = df1[column].unique()\n",
    "    num_unique_classes = len(unique_classes)\n",
    "    print(f'Column \"{column}\": {num_unique_classes} unique classes - {unique_classes}')"
   ]
  },
  {
   "cell_type": "code",
   "execution_count": 236,
   "id": "f59e3bf3-bef8-4c7b-8fb7-208966b3277b",
   "metadata": {
    "tags": []
   },
   "outputs": [
    {
     "name": "stdout",
     "output_type": "stream",
     "text": [
      "<class 'pandas.core.frame.DataFrame'>\n",
      "RangeIndex: 10015 entries, 0 to 10014\n",
      "Data columns (total 21 columns):\n",
      " #   Column                        Non-Null Count  Dtype  \n",
      "---  ------                        --------------  -----  \n",
      " 0   dx_type                       10015 non-null  int32  \n",
      " 1   age                           10015 non-null  float64\n",
      " 2   result                        10015 non-null  int64  \n",
      " 3   sex_female                    10015 non-null  uint8  \n",
      " 4   sex_male                      10015 non-null  uint8  \n",
      " 5   sex_unknown                   10015 non-null  uint8  \n",
      " 6   localization_Abdomen          10015 non-null  uint8  \n",
      " 7   localization_Acral            10015 non-null  uint8  \n",
      " 8   localization_Back             10015 non-null  uint8  \n",
      " 9   localization_Chest            10015 non-null  uint8  \n",
      " 10  localization_Ear              10015 non-null  uint8  \n",
      " 11  localization_Face             10015 non-null  uint8  \n",
      " 12  localization_Foot             10015 non-null  uint8  \n",
      " 13  localization_Genital          10015 non-null  uint8  \n",
      " 14  localization_Hand             10015 non-null  uint8  \n",
      " 15  localization_Lower extremity  10015 non-null  uint8  \n",
      " 16  localization_Neck             10015 non-null  uint8  \n",
      " 17  localization_Scalp            10015 non-null  uint8  \n",
      " 18  localization_Trunk            10015 non-null  uint8  \n",
      " 19  localization_Unknown          10015 non-null  uint8  \n",
      " 20  localization_Upper extremity  10015 non-null  uint8  \n",
      "dtypes: float64(1), int32(1), int64(1), uint8(18)\n",
      "memory usage: 371.8 KB\n"
     ]
    }
   ],
   "source": [
    "df1.info()"
   ]
  },
  {
   "cell_type": "code",
   "execution_count": 237,
   "id": "cf36c90b-582d-4c58-952b-834f6922ef59",
   "metadata": {
    "tags": []
   },
   "outputs": [
    {
     "data": {
      "text/plain": [
       "['age_scaler.joblib']"
      ]
     },
     "execution_count": 237,
     "metadata": {},
     "output_type": "execute_result"
    }
   ],
   "source": [
    "# Initialize the StandardScaler\n",
    "scaler = StandardScaler()\n",
    "\n",
    "# Scale only the 'age' column\n",
    "df1['age'] = scaler.fit_transform(df1[['age']])\n",
    "\n",
    "# Display the first few rows of the updated DataFrame\n",
    "df1.head()\n",
    "\n",
    "# Save the fitted StandardScaler\n",
    "dump(scaler, 'age_scaler.joblib')"
   ]
  },
  {
   "cell_type": "code",
   "execution_count": 238,
   "id": "947ba302-54e2-4267-80b0-4e57ab2eb736",
   "metadata": {
    "tags": []
   },
   "outputs": [],
   "source": [
    "# # Standardize all columns using StandardScaler\n",
    "# scaler = StandardScaler()\n",
    "# df_scaled = pd.DataFrame(scaler.fit_transform(df1), columns=df1.columns)\n",
    "# df_scaled.head()"
   ]
  },
  {
   "cell_type": "code",
   "execution_count": 239,
   "id": "7bb72eae-cafa-48d1-bc7f-aa535b932238",
   "metadata": {
    "tags": []
   },
   "outputs": [],
   "source": [
    "# Assuming 'result' is the target variable\n",
    "X = df1.drop(['result'], axis=1)\n",
    "y = df['result']"
   ]
  },
  {
   "cell_type": "code",
   "execution_count": 240,
   "id": "fb41476f-70ff-4c05-9731-092f9d6025f8",
   "metadata": {
    "tags": []
   },
   "outputs": [],
   "source": [
    "# # Assuming 'result' is the target variable\n",
    "# X = df_scaled.drop(['result', 'dx', 'dx_type', 'diagnosis'], axis=1)\n",
    "# y = df['result']"
   ]
  },
  {
   "cell_type": "code",
   "execution_count": 241,
   "id": "e94e8f87-1abf-445c-889a-685e649b4d18",
   "metadata": {
    "tags": []
   },
   "outputs": [],
   "source": [
    "# Apply random undersampling before splitting into training and testing sets\n",
    "undersampler = RandomUnderSampler(sampling_strategy='majority', random_state=1)\n",
    "X_resampled, y_resampled = undersampler.fit_resample(X, y)"
   ]
  },
  {
   "cell_type": "code",
   "execution_count": 242,
   "id": "bb1c71aa-541d-459f-ba67-a7fd60338cd6",
   "metadata": {
    "tags": []
   },
   "outputs": [],
   "source": [
    "# Split our data into training and testing\n",
    "X_train, X_test, y_train, y_test = train_test_split(X_resampled, \n",
    "                                                    y_resampled, \n",
    "                                                    random_state=1, \n",
    "                                                    stratify=y_resampled)\n"
   ]
  },
  {
   "cell_type": "code",
   "execution_count": 243,
   "id": "b793fa99-cb6b-4cb9-881e-b9c1e0cf2a7c",
   "metadata": {
    "tags": []
   },
   "outputs": [
    {
     "data": {
      "text/html": [
       "<style>#sk-container-id-7 {color: black;}#sk-container-id-7 pre{padding: 0;}#sk-container-id-7 div.sk-toggleable {background-color: white;}#sk-container-id-7 label.sk-toggleable__label {cursor: pointer;display: block;width: 100%;margin-bottom: 0;padding: 0.3em;box-sizing: border-box;text-align: center;}#sk-container-id-7 label.sk-toggleable__label-arrow:before {content: \"▸\";float: left;margin-right: 0.25em;color: #696969;}#sk-container-id-7 label.sk-toggleable__label-arrow:hover:before {color: black;}#sk-container-id-7 div.sk-estimator:hover label.sk-toggleable__label-arrow:before {color: black;}#sk-container-id-7 div.sk-toggleable__content {max-height: 0;max-width: 0;overflow: hidden;text-align: left;background-color: #f0f8ff;}#sk-container-id-7 div.sk-toggleable__content pre {margin: 0.2em;color: black;border-radius: 0.25em;background-color: #f0f8ff;}#sk-container-id-7 input.sk-toggleable__control:checked~div.sk-toggleable__content {max-height: 200px;max-width: 100%;overflow: auto;}#sk-container-id-7 input.sk-toggleable__control:checked~label.sk-toggleable__label-arrow:before {content: \"▾\";}#sk-container-id-7 div.sk-estimator input.sk-toggleable__control:checked~label.sk-toggleable__label {background-color: #d4ebff;}#sk-container-id-7 div.sk-label input.sk-toggleable__control:checked~label.sk-toggleable__label {background-color: #d4ebff;}#sk-container-id-7 input.sk-hidden--visually {border: 0;clip: rect(1px 1px 1px 1px);clip: rect(1px, 1px, 1px, 1px);height: 1px;margin: -1px;overflow: hidden;padding: 0;position: absolute;width: 1px;}#sk-container-id-7 div.sk-estimator {font-family: monospace;background-color: #f0f8ff;border: 1px dotted black;border-radius: 0.25em;box-sizing: border-box;margin-bottom: 0.5em;}#sk-container-id-7 div.sk-estimator:hover {background-color: #d4ebff;}#sk-container-id-7 div.sk-parallel-item::after {content: \"\";width: 100%;border-bottom: 1px solid gray;flex-grow: 1;}#sk-container-id-7 div.sk-label:hover label.sk-toggleable__label {background-color: #d4ebff;}#sk-container-id-7 div.sk-serial::before {content: \"\";position: absolute;border-left: 1px solid gray;box-sizing: border-box;top: 0;bottom: 0;left: 50%;z-index: 0;}#sk-container-id-7 div.sk-serial {display: flex;flex-direction: column;align-items: center;background-color: white;padding-right: 0.2em;padding-left: 0.2em;position: relative;}#sk-container-id-7 div.sk-item {position: relative;z-index: 1;}#sk-container-id-7 div.sk-parallel {display: flex;align-items: stretch;justify-content: center;background-color: white;position: relative;}#sk-container-id-7 div.sk-item::before, #sk-container-id-7 div.sk-parallel-item::before {content: \"\";position: absolute;border-left: 1px solid gray;box-sizing: border-box;top: 0;bottom: 0;left: 50%;z-index: -1;}#sk-container-id-7 div.sk-parallel-item {display: flex;flex-direction: column;z-index: 1;position: relative;background-color: white;}#sk-container-id-7 div.sk-parallel-item:first-child::after {align-self: flex-end;width: 50%;}#sk-container-id-7 div.sk-parallel-item:last-child::after {align-self: flex-start;width: 50%;}#sk-container-id-7 div.sk-parallel-item:only-child::after {width: 0;}#sk-container-id-7 div.sk-dashed-wrapped {border: 1px dashed gray;margin: 0 0.4em 0.5em 0.4em;box-sizing: border-box;padding-bottom: 0.4em;background-color: white;}#sk-container-id-7 div.sk-label label {font-family: monospace;font-weight: bold;display: inline-block;line-height: 1.2em;}#sk-container-id-7 div.sk-label-container {text-align: center;}#sk-container-id-7 div.sk-container {/* jupyter's `normalize.less` sets `[hidden] { display: none; }` but bootstrap.min.css set `[hidden] { display: none !important; }` so we also need the `!important` here to be able to override the default hidden behavior on the sphinx rendered scikit-learn.org. See: https://github.com/scikit-learn/scikit-learn/issues/21755 */display: inline-block !important;position: relative;}#sk-container-id-7 div.sk-text-repr-fallback {display: none;}</style><div id=\"sk-container-id-7\" class=\"sk-top-container\"><div class=\"sk-text-repr-fallback\"><pre>SVC()</pre><b>In a Jupyter environment, please rerun this cell to show the HTML representation or trust the notebook. <br />On GitHub, the HTML representation is unable to render, please try loading this page with nbviewer.org.</b></div><div class=\"sk-container\" hidden><div class=\"sk-item\"><div class=\"sk-estimator sk-toggleable\"><input class=\"sk-toggleable__control sk-hidden--visually\" id=\"sk-estimator-id-7\" type=\"checkbox\" checked><label for=\"sk-estimator-id-7\" class=\"sk-toggleable__label sk-toggleable__label-arrow\">SVC</label><div class=\"sk-toggleable__content\"><pre>SVC()</pre></div></div></div></div></div>"
      ],
      "text/plain": [
       "SVC()"
      ]
     },
     "execution_count": 243,
     "metadata": {},
     "output_type": "execute_result"
    }
   ],
   "source": [
    "# Create an SVM model\n",
    "svm_model = SVC()\n",
    "# svm_model = SVC(kernel='linear', class_weight='balanced', random_state=1)\n",
    "\n",
    "# Train the model using the training data\n",
    "svm_model.fit(X_train, y_train)"
   ]
  },
  {
   "cell_type": "code",
   "execution_count": 244,
   "id": "769e78b0-6dc2-481d-8bfe-440fff5f2a08",
   "metadata": {
    "tags": []
   },
   "outputs": [
    {
     "name": "stdout",
     "output_type": "stream",
     "text": [
      "Training Data Score: 0.7999363867684478\n",
      "Testing Data Score: 0.8139312977099237\n"
     ]
    }
   ],
   "source": [
    "# Score the model using the test data\n",
    "print(f\"Training Data Score: {svm_model.score(X_train, y_train)}\")\n",
    "print(f\"Testing Data Score: {svm_model.score(X_test, y_test)}\")"
   ]
  },
  {
   "cell_type": "code",
   "execution_count": 245,
   "id": "99c80d16-294a-4085-aa30-a3f506ff17ef",
   "metadata": {
    "tags": []
   },
   "outputs": [],
   "source": [
    "# Make predictions\n",
    "predictions = svm_model.predict(X_test)"
   ]
  },
  {
   "cell_type": "code",
   "execution_count": 246,
   "id": "63955cbb-9522-426c-92f4-f48085e7edd6",
   "metadata": {
    "tags": []
   },
   "outputs": [
    {
     "name": "stdout",
     "output_type": "stream",
     "text": [
      "Accuracy: 0.8139312977099237\n"
     ]
    }
   ],
   "source": [
    "# Calculate the Accuracy Score\n",
    "accuracy = accuracy_score(y_test, predictions)\n",
    "print(f'Accuracy: {accuracy}')"
   ]
  },
  {
   "cell_type": "code",
   "execution_count": 247,
   "id": "363fb71d-cf85-4217-8b43-e4d93419efe0",
   "metadata": {
    "tags": []
   },
   "outputs": [],
   "source": [
    "# # confusion matrix\n",
    "# conf_matrix = confusion_matrix(y_test, predictions)\n",
    "\n",
    "# # Display the confusion matrix using seaborn\n",
    "# plt.figure(figsize=(8, 6))\n",
    "# sns.heatmap(conf_matrix, annot=True, fmt=\"d\", cmap=\"Blues\", xticklabels=['Predicted Benign', 'Predicted Malignant'], yticklabels=['Actual Benign', 'Actual Malignant'])\n",
    "# plt.xlabel('Predicted')\n",
    "# plt.ylabel('Actual')\n",
    "# plt.title('Confusion Matrix')\n",
    "# plt.show()"
   ]
  },
  {
   "cell_type": "code",
   "execution_count": 248,
   "id": "4218db69-5c56-4d12-9fa9-d838205145b6",
   "metadata": {
    "tags": []
   },
   "outputs": [
    {
     "data": {},
     "metadata": {},
     "output_type": "display_data"
    },
    {
     "data": {
      "application/vnd.holoviews_exec.v0+json": "",
      "text/html": [
       "<div id='p1926'>\n",
       "  <div id=\"cd74ecb1-83cc-4e5c-ae8d-588bfde34dc5\" data-root-id=\"p1926\" style=\"display: contents;\"></div>\n",
       "</div>\n",
       "<script type=\"application/javascript\">(function(root) {\n",
       "  var docs_json = {\"17ce5a56-ae58-4a1a-a3cb-4f6623a57a16\":{\"version\":\"3.1.1\",\"title\":\"Bokeh Application\",\"defs\":[{\"type\":\"model\",\"name\":\"ReactiveHTML1\"},{\"type\":\"model\",\"name\":\"FlexBox1\",\"properties\":[{\"name\":\"align_content\",\"kind\":\"Any\",\"default\":\"flex-start\"},{\"name\":\"align_items\",\"kind\":\"Any\",\"default\":\"flex-start\"},{\"name\":\"flex_direction\",\"kind\":\"Any\",\"default\":\"row\"},{\"name\":\"flex_wrap\",\"kind\":\"Any\",\"default\":\"wrap\"},{\"name\":\"justify_content\",\"kind\":\"Any\",\"default\":\"flex-start\"}]},{\"type\":\"model\",\"name\":\"FloatPanel1\",\"properties\":[{\"name\":\"config\",\"kind\":\"Any\",\"default\":{\"type\":\"map\"}},{\"name\":\"contained\",\"kind\":\"Any\",\"default\":true},{\"name\":\"position\",\"kind\":\"Any\",\"default\":\"right-top\"},{\"name\":\"offsetx\",\"kind\":\"Any\",\"default\":null},{\"name\":\"offsety\",\"kind\":\"Any\",\"default\":null},{\"name\":\"theme\",\"kind\":\"Any\",\"default\":\"primary\"},{\"name\":\"status\",\"kind\":\"Any\",\"default\":\"normalized\"}]},{\"type\":\"model\",\"name\":\"GridStack1\",\"properties\":[{\"name\":\"mode\",\"kind\":\"Any\",\"default\":\"warn\"},{\"name\":\"ncols\",\"kind\":\"Any\",\"default\":null},{\"name\":\"nrows\",\"kind\":\"Any\",\"default\":null},{\"name\":\"allow_resize\",\"kind\":\"Any\",\"default\":true},{\"name\":\"allow_drag\",\"kind\":\"Any\",\"default\":true},{\"name\":\"state\",\"kind\":\"Any\",\"default\":[]}]},{\"type\":\"model\",\"name\":\"drag1\",\"properties\":[{\"name\":\"slider_width\",\"kind\":\"Any\",\"default\":5},{\"name\":\"slider_color\",\"kind\":\"Any\",\"default\":\"black\"},{\"name\":\"value\",\"kind\":\"Any\",\"default\":50}]},{\"type\":\"model\",\"name\":\"click1\",\"properties\":[{\"name\":\"terminal_output\",\"kind\":\"Any\",\"default\":\"\"},{\"name\":\"debug_name\",\"kind\":\"Any\",\"default\":\"\"},{\"name\":\"clears\",\"kind\":\"Any\",\"default\":0}]},{\"type\":\"model\",\"name\":\"FastWrapper1\",\"properties\":[{\"name\":\"object\",\"kind\":\"Any\",\"default\":null},{\"name\":\"style\",\"kind\":\"Any\",\"default\":null}]},{\"type\":\"model\",\"name\":\"NotificationAreaBase1\",\"properties\":[{\"name\":\"position\",\"kind\":\"Any\",\"default\":\"bottom-right\"},{\"name\":\"_clear\",\"kind\":\"Any\",\"default\":0}]},{\"type\":\"model\",\"name\":\"NotificationArea1\",\"properties\":[{\"name\":\"notifications\",\"kind\":\"Any\",\"default\":[]},{\"name\":\"position\",\"kind\":\"Any\",\"default\":\"bottom-right\"},{\"name\":\"_clear\",\"kind\":\"Any\",\"default\":0},{\"name\":\"types\",\"kind\":\"Any\",\"default\":[{\"type\":\"map\",\"entries\":[[\"type\",\"warning\"],[\"background\",\"#ffc107\"],[\"icon\",{\"type\":\"map\",\"entries\":[[\"className\",\"fas fa-exclamation-triangle\"],[\"tagName\",\"i\"],[\"color\",\"white\"]]}]]},{\"type\":\"map\",\"entries\":[[\"type\",\"info\"],[\"background\",\"#007bff\"],[\"icon\",{\"type\":\"map\",\"entries\":[[\"className\",\"fas fa-info-circle\"],[\"tagName\",\"i\"],[\"color\",\"white\"]]}]]}]}]},{\"type\":\"model\",\"name\":\"Notification\",\"properties\":[{\"name\":\"background\",\"kind\":\"Any\",\"default\":null},{\"name\":\"duration\",\"kind\":\"Any\",\"default\":3000},{\"name\":\"icon\",\"kind\":\"Any\",\"default\":null},{\"name\":\"message\",\"kind\":\"Any\",\"default\":\"\"},{\"name\":\"notification_type\",\"kind\":\"Any\",\"default\":null},{\"name\":\"_destroyed\",\"kind\":\"Any\",\"default\":false}]},{\"type\":\"model\",\"name\":\"TemplateActions1\",\"properties\":[{\"name\":\"open_modal\",\"kind\":\"Any\",\"default\":0},{\"name\":\"close_modal\",\"kind\":\"Any\",\"default\":0}]},{\"type\":\"model\",\"name\":\"BootstrapTemplateActions1\",\"properties\":[{\"name\":\"open_modal\",\"kind\":\"Any\",\"default\":0},{\"name\":\"close_modal\",\"kind\":\"Any\",\"default\":0}]},{\"type\":\"model\",\"name\":\"MaterialTemplateActions1\",\"properties\":[{\"name\":\"open_modal\",\"kind\":\"Any\",\"default\":0},{\"name\":\"close_modal\",\"kind\":\"Any\",\"default\":0}]}],\"roots\":[{\"type\":\"object\",\"name\":\"Row\",\"id\":\"p1926\",\"attributes\":{\"name\":\"Row01397\",\"tags\":[\"embedded\"],\"stylesheets\":[\"\\n:host(.pn-loading.pn-arc):before, .pn-loading.pn-arc:before {\\n  background-image: url(\\\"data:image/svg+xml;base64,PHN2ZyB4bWxucz0iaHR0cDovL3d3dy53My5vcmcvMjAwMC9zdmciIHN0eWxlPSJtYXJnaW46IGF1dG87IGJhY2tncm91bmQ6IG5vbmU7IGRpc3BsYXk6IGJsb2NrOyBzaGFwZS1yZW5kZXJpbmc6IGF1dG87IiB2aWV3Qm94PSIwIDAgMTAwIDEwMCIgcHJlc2VydmVBc3BlY3RSYXRpbz0ieE1pZFlNaWQiPiAgPGNpcmNsZSBjeD0iNTAiIGN5PSI1MCIgZmlsbD0ibm9uZSIgc3Ryb2tlPSIjYzNjM2MzIiBzdHJva2Utd2lkdGg9IjEwIiByPSIzNSIgc3Ryb2tlLWRhc2hhcnJheT0iMTY0LjkzMzYxNDMxMzQ2NDE1IDU2Ljk3Nzg3MTQzNzgyMTM4Ij4gICAgPGFuaW1hdGVUcmFuc2Zvcm0gYXR0cmlidXRlTmFtZT0idHJhbnNmb3JtIiB0eXBlPSJyb3RhdGUiIHJlcGVhdENvdW50PSJpbmRlZmluaXRlIiBkdXI9IjFzIiB2YWx1ZXM9IjAgNTAgNTA7MzYwIDUwIDUwIiBrZXlUaW1lcz0iMDsxIj48L2FuaW1hdGVUcmFuc2Zvcm0+ICA8L2NpcmNsZT48L3N2Zz4=\\\");\\n  background-size: auto calc(min(50%, 400px));\\n}\",{\"type\":\"object\",\"name\":\"ImportedStyleSheet\",\"id\":\"p1929\",\"attributes\":{\"url\":\"https://cdn.holoviz.org/panel/1.1.0/dist/css/loading.css\"}},{\"type\":\"object\",\"name\":\"ImportedStyleSheet\",\"id\":\"p2021\",\"attributes\":{\"url\":\"https://cdn.holoviz.org/panel/1.1.0/dist/css/listpanel.css\"}},{\"type\":\"object\",\"name\":\"ImportedStyleSheet\",\"id\":\"p1927\",\"attributes\":{\"url\":\"https://cdn.holoviz.org/panel/1.1.0/dist/bundled/theme/default.css\"}},{\"type\":\"object\",\"name\":\"ImportedStyleSheet\",\"id\":\"p1928\",\"attributes\":{\"url\":\"https://cdn.holoviz.org/panel/1.1.0/dist/bundled/theme/native.css\"}}],\"min_width\":0,\"margin\":0,\"sizing_mode\":\"stretch_width\",\"align\":\"start\",\"children\":[{\"type\":\"object\",\"name\":\"Spacer\",\"id\":\"p1930\",\"attributes\":{\"name\":\"HSpacer01408\",\"stylesheets\":[\"\\n:host(.pn-loading.pn-arc):before, .pn-loading.pn-arc:before {\\n  background-image: url(\\\"data:image/svg+xml;base64,PHN2ZyB4bWxucz0iaHR0cDovL3d3dy53My5vcmcvMjAwMC9zdmciIHN0eWxlPSJtYXJnaW46IGF1dG87IGJhY2tncm91bmQ6IG5vbmU7IGRpc3BsYXk6IGJsb2NrOyBzaGFwZS1yZW5kZXJpbmc6IGF1dG87IiB2aWV3Qm94PSIwIDAgMTAwIDEwMCIgcHJlc2VydmVBc3BlY3RSYXRpbz0ieE1pZFlNaWQiPiAgPGNpcmNsZSBjeD0iNTAiIGN5PSI1MCIgZmlsbD0ibm9uZSIgc3Ryb2tlPSIjYzNjM2MzIiBzdHJva2Utd2lkdGg9IjEwIiByPSIzNSIgc3Ryb2tlLWRhc2hhcnJheT0iMTY0LjkzMzYxNDMxMzQ2NDE1IDU2Ljk3Nzg3MTQzNzgyMTM4Ij4gICAgPGFuaW1hdGVUcmFuc2Zvcm0gYXR0cmlidXRlTmFtZT0idHJhbnNmb3JtIiB0eXBlPSJyb3RhdGUiIHJlcGVhdENvdW50PSJpbmRlZmluaXRlIiBkdXI9IjFzIiB2YWx1ZXM9IjAgNTAgNTA7MzYwIDUwIDUwIiBrZXlUaW1lcz0iMDsxIj48L2FuaW1hdGVUcmFuc2Zvcm0+ICA8L2NpcmNsZT48L3N2Zz4=\\\");\\n  background-size: auto calc(min(50%, 400px));\\n}\",{\"id\":\"p1929\"},{\"id\":\"p1927\"},{\"id\":\"p1928\"}],\"margin\":0,\"sizing_mode\":\"stretch_width\",\"align\":\"start\"}},{\"type\":\"object\",\"name\":\"Figure\",\"id\":\"p1934\",\"attributes\":{\"height\":300,\"margin\":[5,10],\"sizing_mode\":\"fixed\",\"align\":\"start\",\"x_range\":{\"type\":\"object\",\"name\":\"FactorRange\",\"id\":\"p1931\",\"attributes\":{\"tags\":[[[\"columns\",\"columns\",null]]],\"factors\":[\"Predicted Benign\",\"Predicted Malignant\"]}},\"y_range\":{\"type\":\"object\",\"name\":\"FactorRange\",\"id\":\"p1932\",\"attributes\":{\"tags\":[[[\"index\",\"index\",null]]],\"factors\":[\"Actual Benign\",\"Actual Malignant\"]}},\"x_scale\":{\"type\":\"object\",\"name\":\"CategoricalScale\",\"id\":\"p1946\"},\"y_scale\":{\"type\":\"object\",\"name\":\"CategoricalScale\",\"id\":\"p1948\"},\"title\":{\"type\":\"object\",\"name\":\"Title\",\"id\":\"p1937\",\"attributes\":{\"text\":\"Confusion Matrix\",\"text_color\":\"black\",\"text_font_size\":\"12pt\"}},\"renderers\":[{\"type\":\"object\",\"name\":\"GlyphRenderer\",\"id\":\"p1988\",\"attributes\":{\"data_source\":{\"type\":\"object\",\"name\":\"ColumnDataSource\",\"id\":\"p1977\",\"attributes\":{\"selected\":{\"type\":\"object\",\"name\":\"Selection\",\"id\":\"p1978\",\"attributes\":{\"indices\":[],\"line_indices\":[]}},\"selection_policy\":{\"type\":\"object\",\"name\":\"UnionRenderers\",\"id\":\"p1979\"},\"data\":{\"type\":\"map\",\"entries\":[[\"columns\",[\"Predicted Benign\",\"Predicted Benign\",\"Predicted Malignant\",\"Predicted Malignant\"]],[\"index\",[\"Actual Benign\",\"Actual Malignant\",\"Actual Benign\",\"Actual Malignant\"]],[\"zvalues\",{\"type\":\"ndarray\",\"array\":{\"type\":\"bytes\",\"data\":\"bwEAACYAAACdAAAA5gEAAA==\"},\"shape\":[4],\"dtype\":\"int32\",\"order\":\"little\"}],[\"value\",[\"367\",\"38\",\"157\",\"486\"]]]}}},\"view\":{\"type\":\"object\",\"name\":\"CDSView\",\"id\":\"p1989\",\"attributes\":{\"filter\":{\"type\":\"object\",\"name\":\"AllIndices\",\"id\":\"p1990\"}}},\"glyph\":{\"type\":\"object\",\"name\":\"Rect\",\"id\":\"p1984\",\"attributes\":{\"tags\":[\"apply_ranges\"],\"x\":{\"type\":\"field\",\"field\":\"columns\"},\"y\":{\"type\":\"field\",\"field\":\"index\"},\"width\":{\"type\":\"value\",\"value\":1},\"height\":{\"type\":\"value\",\"value\":1},\"line_color\":{\"type\":\"value\",\"value\":\"#1f77b4\"},\"line_alpha\":{\"type\":\"value\",\"value\":0},\"fill_color\":{\"type\":\"field\",\"field\":\"zvalues\",\"transform\":{\"type\":\"object\",\"name\":\"LinearColorMapper\",\"id\":\"p1976\",\"attributes\":{\"palette\":[\"#f7fbff\",\"#f6fafe\",\"#f5f9fe\",\"#f4f9fe\",\"#f3f8fd\",\"#f3f8fd\",\"#f2f7fd\",\"#f1f7fd\",\"#f0f6fc\",\"#eff6fc\",\"#eff5fc\",\"#eef5fc\",\"#edf4fb\",\"#ecf4fb\",\"#ecf3fb\",\"#ebf3fb\",\"#eaf2fa\",\"#e9f2fa\",\"#e8f1fa\",\"#e8f1fa\",\"#e7f0f9\",\"#e6f0f9\",\"#e5eff9\",\"#e4eff9\",\"#e4eef8\",\"#e3eef8\",\"#e2edf8\",\"#e1edf8\",\"#e1ecf7\",\"#e0ecf7\",\"#dfebf7\",\"#deebf7\",\"#ddeaf6\",\"#ddeaf6\",\"#dce9f6\",\"#dbe9f6\",\"#dae8f5\",\"#dae8f5\",\"#d9e7f5\",\"#d8e7f5\",\"#d7e6f4\",\"#d7e6f4\",\"#d6e5f4\",\"#d5e5f4\",\"#d4e4f3\",\"#d4e4f3\",\"#d3e3f3\",\"#d2e3f3\",\"#d1e2f2\",\"#d1e2f2\",\"#d0e1f2\",\"#cfe1f2\",\"#cee0f1\",\"#cee0f1\",\"#cddff1\",\"#ccdff1\",\"#cbdef0\",\"#cbdef0\",\"#caddf0\",\"#c9ddf0\",\"#c8dcef\",\"#c8dcef\",\"#c7dbef\",\"#c6dbef\",\"#c5daee\",\"#c4daee\",\"#c3d9ee\",\"#c1d9ed\",\"#c0d8ed\",\"#bfd8ec\",\"#bed7ec\",\"#bcd7eb\",\"#bbd6eb\",\"#bad6ea\",\"#b9d5ea\",\"#b7d4ea\",\"#b6d4e9\",\"#b5d3e9\",\"#b4d3e8\",\"#b2d2e8\",\"#b1d2e7\",\"#b0d1e7\",\"#afd1e6\",\"#add0e6\",\"#acd0e6\",\"#abcfe5\",\"#aacfe5\",\"#a8cee4\",\"#a7cee4\",\"#a6cde3\",\"#a5cde3\",\"#a3cce3\",\"#a2cbe2\",\"#a1cbe2\",\"#a0cae1\",\"#9ecae1\",\"#9dc9e0\",\"#9bc8e0\",\"#9ac7e0\",\"#98c7df\",\"#97c6df\",\"#95c5df\",\"#93c4de\",\"#92c3de\",\"#90c2de\",\"#8fc1dd\",\"#8dc0dd\",\"#8bc0dd\",\"#8abfdc\",\"#88bedc\",\"#87bddc\",\"#85bcdb\",\"#83bbdb\",\"#82badb\",\"#80b9da\",\"#7fb8da\",\"#7db8d9\",\"#7bb7d9\",\"#7ab6d9\",\"#78b5d8\",\"#77b4d8\",\"#75b3d8\",\"#73b2d7\",\"#72b1d7\",\"#70b1d7\",\"#6fb0d6\",\"#6dafd6\",\"#6baed6\",\"#6aadd5\",\"#69acd5\",\"#67abd4\",\"#66aad4\",\"#65aad3\",\"#63a9d3\",\"#62a8d2\",\"#61a7d2\",\"#60a6d1\",\"#5ea5d1\",\"#5da4d0\",\"#5ca3d0\",\"#5aa3cf\",\"#59a2cf\",\"#58a1ce\",\"#57a0ce\",\"#559fcd\",\"#549ecd\",\"#539dcc\",\"#519ccc\",\"#509bcb\",\"#4f9bcb\",\"#4e9aca\",\"#4c99ca\",\"#4b98c9\",\"#4a97c9\",\"#4896c8\",\"#4795c8\",\"#4694c7\",\"#4594c7\",\"#4393c6\",\"#4292c6\",\"#4191c5\",\"#4090c5\",\"#3f8fc4\",\"#3e8ec4\",\"#3d8dc3\",\"#3c8cc3\",\"#3b8bc2\",\"#3a8ac1\",\"#3989c1\",\"#3888c0\",\"#3787c0\",\"#3585bf\",\"#3484bf\",\"#3383be\",\"#3282be\",\"#3181bd\",\"#3080bd\",\"#2f7fbc\",\"#2e7ebc\",\"#2d7dbb\",\"#2c7cbb\",\"#2b7bba\",\"#2a7ab9\",\"#2979b9\",\"#2878b8\",\"#2777b8\",\"#2676b7\",\"#2575b7\",\"#2474b6\",\"#2373b6\",\"#2272b5\",\"#2171b5\",\"#2070b4\",\"#1f6fb3\",\"#1e6eb2\",\"#1e6db2\",\"#1d6cb1\",\"#1c6bb0\",\"#1b6aaf\",\"#1a69ae\",\"#1a68ae\",\"#1967ad\",\"#1866ac\",\"#1765ab\",\"#1764ab\",\"#1663aa\",\"#1562a9\",\"#1461a8\",\"#1360a7\",\"#135fa7\",\"#125ea6\",\"#115da5\",\"#105ca4\",\"#0f5ba3\",\"#0f5aa3\",\"#0e59a2\",\"#0d58a1\",\"#0c57a0\",\"#0c56a0\",\"#0b559f\",\"#0a549e\",\"#09539d\",\"#08529c\",\"#08519c\",\"#08509a\",\"#084f99\",\"#084e97\",\"#084c96\",\"#084b94\",\"#084a92\",\"#084991\",\"#08488f\",\"#08478e\",\"#08468c\",\"#08458b\",\"#084489\",\"#084388\",\"#084286\",\"#084185\",\"#084083\",\"#083f82\",\"#083e80\",\"#083d7e\",\"#083c7d\",\"#083b7b\",\"#083a7a\",\"#083978\",\"#083877\",\"#083775\",\"#083674\",\"#083572\",\"#083471\",\"#08336f\",\"#08326e\",\"#08316c\",\"#08306b\"],\"nan_color\":\"white\",\"low\":38,\"high\":486}}}}},\"selection_glyph\":{\"type\":\"object\",\"name\":\"Rect\",\"id\":\"p1986\",\"attributes\":{\"tags\":[\"apply_ranges\"],\"x\":{\"type\":\"field\",\"field\":\"columns\"},\"y\":{\"type\":\"field\",\"field\":\"index\"},\"width\":{\"type\":\"value\",\"value\":1},\"height\":{\"type\":\"value\",\"value\":1},\"line_color\":{\"type\":\"value\",\"value\":\"#1f77b4\"},\"line_alpha\":{\"type\":\"value\",\"value\":0},\"fill_color\":{\"type\":\"field\",\"field\":\"zvalues\",\"transform\":{\"id\":\"p1976\"}}}},\"nonselection_glyph\":{\"type\":\"object\",\"name\":\"Rect\",\"id\":\"p1985\",\"attributes\":{\"tags\":[\"apply_ranges\"],\"x\":{\"type\":\"field\",\"field\":\"columns\"},\"y\":{\"type\":\"field\",\"field\":\"index\"},\"width\":{\"type\":\"value\",\"value\":1},\"height\":{\"type\":\"value\",\"value\":1},\"line_color\":{\"type\":\"value\",\"value\":\"#1f77b4\"},\"line_alpha\":{\"type\":\"value\",\"value\":0},\"fill_color\":{\"type\":\"field\",\"field\":\"zvalues\",\"transform\":{\"id\":\"p1976\"}},\"fill_alpha\":{\"type\":\"value\",\"value\":0.1},\"hatch_alpha\":{\"type\":\"value\",\"value\":0.1}}},\"muted_glyph\":{\"type\":\"object\",\"name\":\"Rect\",\"id\":\"p1987\",\"attributes\":{\"tags\":[\"apply_ranges\"],\"x\":{\"type\":\"field\",\"field\":\"columns\"},\"y\":{\"type\":\"field\",\"field\":\"index\"},\"width\":{\"type\":\"value\",\"value\":1},\"height\":{\"type\":\"value\",\"value\":1},\"line_color\":{\"type\":\"value\",\"value\":\"#1f77b4\"},\"line_alpha\":{\"type\":\"value\",\"value\":0},\"fill_color\":{\"type\":\"field\",\"field\":\"zvalues\",\"transform\":{\"id\":\"p1976\"}},\"fill_alpha\":{\"type\":\"value\",\"value\":0.2},\"hatch_alpha\":{\"type\":\"value\",\"value\":0.2}}}}}],\"toolbar\":{\"type\":\"object\",\"name\":\"Toolbar\",\"id\":\"p1941\",\"attributes\":{\"tools\":[{\"type\":\"object\",\"name\":\"HoverTool\",\"id\":\"p1933\",\"attributes\":{\"tags\":[\"hv_created\"],\"renderers\":[{\"id\":\"p1988\"}],\"tooltips\":[[\"columns\",\"@{columns}\"],[\"index\",\"@{index}\"],[\"value\",\"@{value}\"]]}},{\"type\":\"object\",\"name\":\"SaveTool\",\"id\":\"p1962\"},{\"type\":\"object\",\"name\":\"PanTool\",\"id\":\"p1963\"},{\"type\":\"object\",\"name\":\"WheelZoomTool\",\"id\":\"p1964\"},{\"type\":\"object\",\"name\":\"BoxZoomTool\",\"id\":\"p1965\",\"attributes\":{\"overlay\":{\"type\":\"object\",\"name\":\"BoxAnnotation\",\"id\":\"p1966\",\"attributes\":{\"syncable\":false,\"level\":\"overlay\",\"visible\":false,\"left_units\":\"canvas\",\"right_units\":\"canvas\",\"bottom_units\":\"canvas\",\"top_units\":\"canvas\",\"line_color\":\"black\",\"line_alpha\":1.0,\"line_width\":2,\"line_dash\":[4,4],\"fill_color\":\"lightgrey\",\"fill_alpha\":0.5}}}},{\"type\":\"object\",\"name\":\"ResetTool\",\"id\":\"p1967\"}],\"active_drag\":{\"id\":\"p1963\"},\"active_scroll\":{\"id\":\"p1964\"}}},\"left\":[{\"type\":\"object\",\"name\":\"CategoricalAxis\",\"id\":\"p1956\",\"attributes\":{\"ticker\":{\"type\":\"object\",\"name\":\"CategoricalTicker\",\"id\":\"p1959\"},\"formatter\":{\"type\":\"object\",\"name\":\"CategoricalTickFormatter\",\"id\":\"p1957\"},\"axis_label\":\"Actual\",\"major_label_policy\":{\"type\":\"object\",\"name\":\"AllLabels\",\"id\":\"p1958\"}}}],\"right\":[{\"type\":\"object\",\"name\":\"ColorBar\",\"id\":\"p1992\",\"attributes\":{\"location\":[0,0],\"ticker\":{\"type\":\"object\",\"name\":\"BasicTicker\",\"id\":\"p1991\",\"attributes\":{\"mantissas\":[1,2,5]}},\"major_label_policy\":{\"type\":\"object\",\"name\":\"NoOverlap\",\"id\":\"p1993\"},\"label_standoff\":8,\"major_tick_line_color\":\"black\",\"bar_line_color\":\"black\",\"color_mapper\":{\"id\":\"p1976\"}}}],\"below\":[{\"type\":\"object\",\"name\":\"CategoricalAxis\",\"id\":\"p1950\",\"attributes\":{\"ticker\":{\"type\":\"object\",\"name\":\"CategoricalTicker\",\"id\":\"p1953\"},\"formatter\":{\"type\":\"object\",\"name\":\"CategoricalTickFormatter\",\"id\":\"p1951\"},\"axis_label\":\"Predicted\",\"major_label_policy\":{\"type\":\"object\",\"name\":\"AllLabels\",\"id\":\"p1952\"}}}],\"center\":[{\"type\":\"object\",\"name\":\"Grid\",\"id\":\"p1955\",\"attributes\":{\"axis\":{\"id\":\"p1950\"},\"grid_line_color\":null}},{\"type\":\"object\",\"name\":\"Grid\",\"id\":\"p1961\",\"attributes\":{\"dimension\":1,\"axis\":{\"id\":\"p1956\"},\"grid_line_color\":null}}],\"min_border_top\":10,\"min_border_bottom\":10,\"min_border_left\":10,\"min_border_right\":10,\"output_backend\":\"webgl\"}},{\"type\":\"object\",\"name\":\"Spacer\",\"id\":\"p2019\",\"attributes\":{\"name\":\"HSpacer01411\",\"stylesheets\":[\"\\n:host(.pn-loading.pn-arc):before, .pn-loading.pn-arc:before {\\n  background-image: url(\\\"data:image/svg+xml;base64,PHN2ZyB4bWxucz0iaHR0cDovL3d3dy53My5vcmcvMjAwMC9zdmciIHN0eWxlPSJtYXJnaW46IGF1dG87IGJhY2tncm91bmQ6IG5vbmU7IGRpc3BsYXk6IGJsb2NrOyBzaGFwZS1yZW5kZXJpbmc6IGF1dG87IiB2aWV3Qm94PSIwIDAgMTAwIDEwMCIgcHJlc2VydmVBc3BlY3RSYXRpbz0ieE1pZFlNaWQiPiAgPGNpcmNsZSBjeD0iNTAiIGN5PSI1MCIgZmlsbD0ibm9uZSIgc3Ryb2tlPSIjYzNjM2MzIiBzdHJva2Utd2lkdGg9IjEwIiByPSIzNSIgc3Ryb2tlLWRhc2hhcnJheT0iMTY0LjkzMzYxNDMxMzQ2NDE1IDU2Ljk3Nzg3MTQzNzgyMTM4Ij4gICAgPGFuaW1hdGVUcmFuc2Zvcm0gYXR0cmlidXRlTmFtZT0idHJhbnNmb3JtIiB0eXBlPSJyb3RhdGUiIHJlcGVhdENvdW50PSJpbmRlZmluaXRlIiBkdXI9IjFzIiB2YWx1ZXM9IjAgNTAgNTA7MzYwIDUwIDUwIiBrZXlUaW1lcz0iMDsxIj48L2FuaW1hdGVUcmFuc2Zvcm0+ICA8L2NpcmNsZT48L3N2Zz4=\\\");\\n  background-size: auto calc(min(50%, 400px));\\n}\",{\"id\":\"p1929\"},{\"id\":\"p1927\"},{\"id\":\"p1928\"}],\"margin\":0,\"sizing_mode\":\"stretch_width\",\"align\":\"start\"}}]}}],\"callbacks\":{\"type\":\"map\"}}};\n",
       "  var render_items = [{\"docid\":\"17ce5a56-ae58-4a1a-a3cb-4f6623a57a16\",\"roots\":{\"p1926\":\"cd74ecb1-83cc-4e5c-ae8d-588bfde34dc5\"},\"root_ids\":[\"p1926\"]}];\n",
       "  var docs = Object.values(docs_json)\n",
       "  if (!docs) {\n",
       "    return\n",
       "  }\n",
       "  const py_version = docs[0].version.replace('rc', '-rc.')\n",
       "  const is_dev = py_version.indexOf(\"+\") !== -1 || py_version.indexOf(\"-\") !== -1\n",
       "  function embed_document(root) {\n",
       "    var Bokeh = get_bokeh(root)\n",
       "    Bokeh.embed.embed_items_notebook(docs_json, render_items);\n",
       "    for (const render_item of render_items) {\n",
       "      for (const root_id of render_item.root_ids) {\n",
       "\tconst id_el = document.getElementById(root_id)\n",
       "\tif (id_el.children.length && (id_el.children[0].className === 'bk-root')) {\n",
       "\t  const root_el = id_el.children[0]\n",
       "\t  root_el.id = root_el.id + '-rendered'\n",
       "\t}\n",
       "      }\n",
       "    }\n",
       "  }\n",
       "  function get_bokeh(root) {\n",
       "    if (root.Bokeh === undefined) {\n",
       "      return null\n",
       "    } else if (root.Bokeh.version !== py_version && !is_dev) {\n",
       "      if (root.Bokeh.versions === undefined || !root.Bokeh.versions.has(py_version)) {\n",
       "\treturn null\n",
       "      }\n",
       "      return root.Bokeh.versions.get(py_version);\n",
       "    } else if (root.Bokeh.version === py_version) {\n",
       "      return root.Bokeh\n",
       "    }\n",
       "    return null\n",
       "  }\n",
       "  function is_loaded(root) {\n",
       "    var Bokeh = get_bokeh(root)\n",
       "    return (Bokeh != null && Bokeh.Panel !== undefined)\n",
       "  }\n",
       "  if (is_loaded(root)) {\n",
       "    embed_document(root);\n",
       "  } else {\n",
       "    var attempts = 0;\n",
       "    var timer = setInterval(function(root) {\n",
       "      if (is_loaded(root)) {\n",
       "        clearInterval(timer);\n",
       "        embed_document(root);\n",
       "      } else if (document.readyState == \"complete\") {\n",
       "        attempts++;\n",
       "        if (attempts > 200) {\n",
       "          clearInterval(timer);\n",
       "\t  var Bokeh = get_bokeh(root)\n",
       "\t  if (Bokeh == null || Bokeh.Panel == null) {\n",
       "            console.warn(\"Panel: ERROR: Unable to run Panel code because Bokeh or Panel library is missing\");\n",
       "\t  } else {\n",
       "\t    console.warn(\"Panel: WARNING: Attempting to render but not all required libraries could be resolved.\")\n",
       "\t    embed_document(root)\n",
       "\t  }\n",
       "        }\n",
       "      }\n",
       "    }, 25, root)\n",
       "  }\n",
       "})(window);</script>"
      ],
      "text/plain": [
       ":HeatMap   [columns,index]   (value)"
      ]
     },
     "execution_count": 248,
     "metadata": {
      "application/vnd.holoviews_exec.v0+json": {
       "id": "p1926"
      }
     },
     "output_type": "execute_result"
    }
   ],
   "source": [
    "# confusion matrix\n",
    "conf_matrix = confusion_matrix(y_test, predictions)\n",
    "\n",
    "# hvplot for visualization\n",
    "conf_matrix_df = pd.DataFrame(conf_matrix, index=['Actual Benign', 'Actual Malignant'], columns=['Predicted Benign', 'Predicted Malignant'])\n",
    "conf_matrix_df.hvplot.heatmap(cmap=\"Blues\", width=600, height=300, xlabel='Predicted', ylabel='Actual', title='Confusion Matrix')"
   ]
  },
  {
   "cell_type": "code",
   "execution_count": 249,
   "id": "3ed1986d-8256-4273-9f38-db7a87890051",
   "metadata": {
    "tags": []
   },
   "outputs": [
    {
     "name": "stdout",
     "output_type": "stream",
     "text": [
      "Confusion Matrix:\n",
      "                  Predicted Benign  Predicted Malignant\n",
      "Actual Benign                  367                  157\n",
      "Actual Malignant                38                  486\n"
     ]
    }
   ],
   "source": [
    "# Print the DataFrame\n",
    "print(\"Confusion Matrix:\")\n",
    "print(conf_matrix_df)"
   ]
  },
  {
   "cell_type": "code",
   "execution_count": 250,
   "id": "b108e15a-99e6-4c44-9ba5-71592c0131c9",
   "metadata": {
    "tags": []
   },
   "outputs": [
    {
     "name": "stdout",
     "output_type": "stream",
     "text": [
      "Classification Report:\n",
      "              precision    recall  f1-score   support\n",
      "\n",
      "      Benign       0.91      0.70      0.79       524\n",
      "   Cancerous       0.76      0.93      0.83       524\n",
      "\n",
      "    accuracy                           0.81      1048\n",
      "   macro avg       0.83      0.81      0.81      1048\n",
      "weighted avg       0.83      0.81      0.81      1048\n",
      "\n"
     ]
    }
   ],
   "source": [
    "# Display the classification report\n",
    "target_names=[\"Benign\", \"Cancerous\"]\n",
    "classification_report_result = classification_report(y_test, predictions, target_names=target_names)\n",
    "print('Classification Report:')\n",
    "print(classification_report_result)"
   ]
  },
  {
   "cell_type": "code",
   "execution_count": 251,
   "id": "092a6f3e-38f3-4d29-b862-3512c526f0d5",
   "metadata": {},
   "outputs": [
    {
     "data": {
      "text/plain": [
       "['svm_model.joblib']"
      ]
     },
     "execution_count": 251,
     "metadata": {},
     "output_type": "execute_result"
    }
   ],
   "source": [
    "import joblib\n",
    "# Save the model\n",
    "joblib.dump(svm_model, 'svm_model.joblib')"
   ]
  },
  {
   "cell_type": "code",
   "execution_count": 252,
   "id": "b4e10d9c-7fff-430e-ba4f-5e0a4c6951b2",
   "metadata": {
    "tags": []
   },
   "outputs": [],
   "source": [
    "# Load the saved model\n",
    "loaded_model = joblib.load('svm_model.joblib')"
   ]
  },
  {
   "cell_type": "code",
   "execution_count": 253,
   "id": "d9b3a748-fed2-48fc-9458-b8e2bfe07533",
   "metadata": {},
   "outputs": [
    {
     "name": "stdout",
     "output_type": "stream",
     "text": [
      "0    7919\n",
      "1    2096\n",
      "Name: result, dtype: int64\n"
     ]
    }
   ],
   "source": [
    "counts = df1['result'].value_counts()\n",
    "\n",
    "# Display the counts\n",
    "print(counts)"
   ]
  },
  {
   "cell_type": "code",
   "execution_count": 254,
   "id": "15b42c06-5236-4667-b338-f561c82a90db",
   "metadata": {
    "tags": []
   },
   "outputs": [
    {
     "data": {
      "text/plain": [
       "['svm_scaler.joblib']"
      ]
     },
     "execution_count": 254,
     "metadata": {},
     "output_type": "execute_result"
    }
   ],
   "source": [
    "# Save the LabelEncoder and StandardScaler\n",
    "joblib.dump(scaler, 'svm_scaler.joblib')"
   ]
  },
  {
   "cell_type": "code",
   "execution_count": 255,
   "id": "87cffb43-4db9-40c5-b62c-158239f7cb57",
   "metadata": {
    "tags": []
   },
   "outputs": [
    {
     "data": {
      "text/plain": [
       "['svm_label_encoder.joblib']"
      ]
     },
     "execution_count": 255,
     "metadata": {},
     "output_type": "execute_result"
    }
   ],
   "source": [
    "joblib.dump(label_encoder, 'svm_label_encoder.joblib')"
   ]
  },
  {
   "cell_type": "code",
   "execution_count": 256,
   "id": "0dba6859-0f27-4758-9a44-6198eeaec46d",
   "metadata": {
    "tags": []
   },
   "outputs": [],
   "source": [
    "# Save processed data\n",
    "df1.to_csv(\"processed_data.csv\", index=False)"
   ]
  },
  {
   "cell_type": "code",
   "execution_count": 257,
   "id": "73d8691d-cf56-4e88-ac61-46d019ea859e",
   "metadata": {},
   "outputs": [
    {
     "data": {
      "text/plain": [
       "['label_encoder_dx_type.joblib']"
      ]
     },
     "execution_count": 257,
     "metadata": {},
     "output_type": "execute_result"
    }
   ],
   "source": [
    "joblib.dump(label_encoder, 'label_encoder_dx_type.joblib')"
   ]
  },
  {
   "cell_type": "code",
   "execution_count": null,
   "id": "4fede7c6-5d43-491c-a90f-892ab9905e92",
   "metadata": {},
   "outputs": [],
   "source": []
  },
  {
   "cell_type": "code",
   "execution_count": null,
   "id": "9145fe82-e8d3-4365-b29c-b289910de0c8",
   "metadata": {},
   "outputs": [],
   "source": []
  },
  {
   "cell_type": "code",
   "execution_count": null,
   "id": "b3e80ba8-dfd1-4b0d-88cc-39597e5190d9",
   "metadata": {},
   "outputs": [],
   "source": []
  }
 ],
 "metadata": {
  "kernelspec": {
   "display_name": "PandasData",
   "language": "python",
   "name": "pandasdata"
  },
  "language_info": {
   "codemirror_mode": {
    "name": "ipython",
    "version": 3
   },
   "file_extension": ".py",
   "mimetype": "text/x-python",
   "name": "python",
   "nbconvert_exporter": "python",
   "pygments_lexer": "ipython3",
   "version": "3.11.3"
  }
 },
 "nbformat": 4,
 "nbformat_minor": 5
}
