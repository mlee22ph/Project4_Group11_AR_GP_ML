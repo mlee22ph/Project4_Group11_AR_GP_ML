{
 "cells": [
  {
   "cell_type": "code",
   "execution_count": 1,
   "id": "6057bd5b-a4b4-48a4-806a-faae704abbf5",
   "metadata": {},
   "outputs": [],
   "source": [
    "# Import modules\n",
    "from warnings import simplefilter\n",
    "simplefilter(action='ignore', category=FutureWarning)\n",
    "import pandas as pd\n",
    "import numpy as np\n",
    "from pathlib import Path\n",
    "from sklearn.model_selection import train_test_split\n",
    "from sklearn.metrics import classification_report\n",
    "from sklearn import preprocessing\n",
    "from sklearn.preprocessing import StandardScaler"
   ]
  },
  {
   "cell_type": "code",
   "execution_count": 2,
   "id": "a2e7f5f1-3f89-4c68-a99f-b270f96fc636",
   "metadata": {},
   "outputs": [
    {
     "data": {
      "text/html": [
       "<div>\n",
       "<style scoped>\n",
       "    .dataframe tbody tr th:only-of-type {\n",
       "        vertical-align: middle;\n",
       "    }\n",
       "\n",
       "    .dataframe tbody tr th {\n",
       "        vertical-align: top;\n",
       "    }\n",
       "\n",
       "    .dataframe thead th {\n",
       "        text-align: right;\n",
       "    }\n",
       "</style>\n",
       "<table border=\"1\" class=\"dataframe\">\n",
       "  <thead>\n",
       "    <tr style=\"text-align: right;\">\n",
       "      <th></th>\n",
       "      <th>lesion_id</th>\n",
       "      <th>image_id</th>\n",
       "      <th>dx</th>\n",
       "      <th>dx_type</th>\n",
       "      <th>age</th>\n",
       "      <th>sex</th>\n",
       "      <th>localization</th>\n",
       "    </tr>\n",
       "  </thead>\n",
       "  <tbody>\n",
       "    <tr>\n",
       "      <th>0</th>\n",
       "      <td>HAM_0000118</td>\n",
       "      <td>ISIC_0027419</td>\n",
       "      <td>bkl</td>\n",
       "      <td>histo</td>\n",
       "      <td>80.0</td>\n",
       "      <td>male</td>\n",
       "      <td>scalp</td>\n",
       "    </tr>\n",
       "    <tr>\n",
       "      <th>1</th>\n",
       "      <td>HAM_0000118</td>\n",
       "      <td>ISIC_0025030</td>\n",
       "      <td>bkl</td>\n",
       "      <td>histo</td>\n",
       "      <td>80.0</td>\n",
       "      <td>male</td>\n",
       "      <td>scalp</td>\n",
       "    </tr>\n",
       "    <tr>\n",
       "      <th>2</th>\n",
       "      <td>HAM_0002730</td>\n",
       "      <td>ISIC_0026769</td>\n",
       "      <td>bkl</td>\n",
       "      <td>histo</td>\n",
       "      <td>80.0</td>\n",
       "      <td>male</td>\n",
       "      <td>scalp</td>\n",
       "    </tr>\n",
       "    <tr>\n",
       "      <th>3</th>\n",
       "      <td>HAM_0002730</td>\n",
       "      <td>ISIC_0025661</td>\n",
       "      <td>bkl</td>\n",
       "      <td>histo</td>\n",
       "      <td>80.0</td>\n",
       "      <td>male</td>\n",
       "      <td>scalp</td>\n",
       "    </tr>\n",
       "    <tr>\n",
       "      <th>4</th>\n",
       "      <td>HAM_0001466</td>\n",
       "      <td>ISIC_0031633</td>\n",
       "      <td>bkl</td>\n",
       "      <td>histo</td>\n",
       "      <td>75.0</td>\n",
       "      <td>male</td>\n",
       "      <td>ear</td>\n",
       "    </tr>\n",
       "  </tbody>\n",
       "</table>\n",
       "</div>"
      ],
      "text/plain": [
       "     lesion_id      image_id   dx dx_type   age   sex localization\n",
       "0  HAM_0000118  ISIC_0027419  bkl   histo  80.0  male        scalp\n",
       "1  HAM_0000118  ISIC_0025030  bkl   histo  80.0  male        scalp\n",
       "2  HAM_0002730  ISIC_0026769  bkl   histo  80.0  male        scalp\n",
       "3  HAM_0002730  ISIC_0025661  bkl   histo  80.0  male        scalp\n",
       "4  HAM_0001466  ISIC_0031633  bkl   histo  75.0  male          ear"
      ]
     },
     "execution_count": 2,
     "metadata": {},
     "output_type": "execute_result"
    }
   ],
   "source": [
    "# Read the CSV file into a Pandas DataFrame\n",
    "skin_metadata_df = pd.read_csv(\n",
    "    Path(\"Resources/HAM10000_metadata.csv\")\n",
    ")\n",
    "\n",
    "# Review the DataFrame\n",
    "skin_metadata_df.head()"
   ]
  },
  {
   "cell_type": "code",
   "execution_count": 3,
   "id": "e78ba3d0-bb96-4413-83d9-65dfc12db14f",
   "metadata": {},
   "outputs": [],
   "source": [
    "skin_metadata_df_dict = {\n",
    "    'nv': 'Melanocytic nevi',\n",
    "    'mel': 'Melanoma',\n",
    "    'bkl': 'Benign keratosis-like lesions ',\n",
    "    'bcc': 'Basal cell carcinoma',\n",
    "    'akiec': 'Actinic keratoses',\n",
    "    'vasc': 'Vascular lesions',\n",
    "    'df': 'Dermatofibroma'\n",
    "}\n",
    "\n",
    "skin_metadata_df['diagnosis'] = skin_metadata_df['dx'].map(skin_metadata_df_dict.get) "
   ]
  },
  {
   "cell_type": "code",
   "execution_count": 4,
   "id": "063be32e-03a9-474c-aadb-56983c4bc806",
   "metadata": {},
   "outputs": [
    {
     "data": {
      "text/plain": [
       "diagnosis\n",
       "Melanocytic nevi                  6705\n",
       "Melanoma                          1113\n",
       "Benign keratosis-like lesions     1099\n",
       "Basal cell carcinoma               514\n",
       "Actinic keratoses                  327\n",
       "Vascular lesions                   142\n",
       "Dermatofibroma                     115\n",
       "Name: count, dtype: int64"
      ]
     },
     "execution_count": 4,
     "metadata": {},
     "output_type": "execute_result"
    }
   ],
   "source": [
    "skin_metadata_df['diagnosis'].value_counts()"
   ]
  },
  {
   "cell_type": "markdown",
   "id": "eef833a9-6d8b-486f-a215-9f5a2d98b316",
   "metadata": {},
   "source": [
    "## Step 1: Preparing the Data"
   ]
  },
  {
   "cell_type": "code",
   "execution_count": 5,
   "id": "c37b690f-6296-4345-adeb-8b64a0675f1e",
   "metadata": {},
   "outputs": [],
   "source": [
    "label_encoder = preprocessing.LabelEncoder()"
   ]
  },
  {
   "cell_type": "code",
   "execution_count": 6,
   "id": "5e95b554-2984-4164-9bf2-faa252876f90",
   "metadata": {},
   "outputs": [],
   "source": [
    "df1 = skin_metadata_df.copy()"
   ]
  },
  {
   "cell_type": "code",
   "execution_count": 7,
   "id": "77c70eea-68b8-4b19-a1c4-30411c929fbf",
   "metadata": {},
   "outputs": [],
   "source": [
    "lesion_id_cat = label_encoder.fit_transform(df1['lesion_id'])\n",
    "lesion_id_cat = pd.DataFrame({'lesion_id_cat': lesion_id_cat})"
   ]
  },
  {
   "cell_type": "code",
   "execution_count": 8,
   "id": "61944657-9fc9-4ce3-b747-d6610936dded",
   "metadata": {},
   "outputs": [],
   "source": [
    "image_id_cat = label_encoder.fit_transform(df1['image_id'])\n",
    "image_id_cat = pd.DataFrame({'image_id_cat': image_id_cat})"
   ]
  },
  {
   "cell_type": "code",
   "execution_count": 9,
   "id": "548c9a2c-e0ce-43ae-88c0-33ec7b9907a0",
   "metadata": {},
   "outputs": [],
   "source": [
    "dx_cat = label_encoder.fit_transform(df1['dx'])\n",
    "dx_cat = pd.DataFrame({'dx_cat': dx_cat})"
   ]
  },
  {
   "cell_type": "code",
   "execution_count": 10,
   "id": "f24d7287-3fe4-4126-801d-0aeb98c53415",
   "metadata": {},
   "outputs": [],
   "source": [
    "dx_type_cat = label_encoder.fit_transform(df1['dx_type'])\n",
    "dx_type_cat = pd.DataFrame({'dx_type_cat': dx_type_cat})"
   ]
  },
  {
   "cell_type": "code",
   "execution_count": 11,
   "id": "2fd6bdf2-e74c-4a39-b30b-1c00ff5cac31",
   "metadata": {},
   "outputs": [],
   "source": [
    "sex_cat = label_encoder.fit_transform(df1['sex'])\n",
    "sex_cat = pd.DataFrame({'sex_cat': sex_cat})"
   ]
  },
  {
   "cell_type": "code",
   "execution_count": 12,
   "id": "474b9180-8712-43d2-a592-4bfca7673ca2",
   "metadata": {},
   "outputs": [],
   "source": [
    "localization_cat = label_encoder.fit_transform(df1['localization'])\n",
    "localization_cat = pd.DataFrame({'localization_cat': localization_cat})"
   ]
  },
  {
   "cell_type": "code",
   "execution_count": 13,
   "id": "868a9f0f-2a53-44dc-a151-28e3b4569f8d",
   "metadata": {},
   "outputs": [],
   "source": [
    "diagnosis_cat = label_encoder.fit_transform(df1['diagnosis'])\n",
    "diagnosis_cat = pd.DataFrame({'diagnosis_cat': diagnosis_cat})"
   ]
  },
  {
   "cell_type": "code",
   "execution_count": 14,
   "id": "8ded931d-d6bb-4d9b-b2dc-c620a9a66ca4",
   "metadata": {},
   "outputs": [],
   "source": [
    "df1.lesion_id = lesion_id_cat\n",
    "df1.image_id = image_id_cat\n",
    "df1.dx = dx_cat\n",
    "df1.dx_type = dx_type_cat\n",
    "df1.sex = sex_cat\n",
    "df1.localization = localization_cat\n",
    "df1.diagnosis = diagnosis_cat"
   ]
  },
  {
   "cell_type": "code",
   "execution_count": 15,
   "id": "cc94675f-2526-4ad3-a974-176d5b4cb374",
   "metadata": {},
   "outputs": [
    {
     "data": {
      "text/html": [
       "<div>\n",
       "<style scoped>\n",
       "    .dataframe tbody tr th:only-of-type {\n",
       "        vertical-align: middle;\n",
       "    }\n",
       "\n",
       "    .dataframe tbody tr th {\n",
       "        vertical-align: top;\n",
       "    }\n",
       "\n",
       "    .dataframe thead th {\n",
       "        text-align: right;\n",
       "    }\n",
       "</style>\n",
       "<table border=\"1\" class=\"dataframe\">\n",
       "  <thead>\n",
       "    <tr style=\"text-align: right;\">\n",
       "      <th></th>\n",
       "      <th>lesion_id</th>\n",
       "      <th>image_id</th>\n",
       "      <th>dx</th>\n",
       "      <th>dx_type</th>\n",
       "      <th>age</th>\n",
       "      <th>sex</th>\n",
       "      <th>localization</th>\n",
       "      <th>diagnosis</th>\n",
       "    </tr>\n",
       "  </thead>\n",
       "  <tbody>\n",
       "    <tr>\n",
       "      <th>0</th>\n",
       "      <td>118</td>\n",
       "      <td>3113</td>\n",
       "      <td>2</td>\n",
       "      <td>3</td>\n",
       "      <td>80.0</td>\n",
       "      <td>1</td>\n",
       "      <td>11</td>\n",
       "      <td>2</td>\n",
       "    </tr>\n",
       "    <tr>\n",
       "      <th>1</th>\n",
       "      <td>118</td>\n",
       "      <td>724</td>\n",
       "      <td>2</td>\n",
       "      <td>3</td>\n",
       "      <td>80.0</td>\n",
       "      <td>1</td>\n",
       "      <td>11</td>\n",
       "      <td>2</td>\n",
       "    </tr>\n",
       "    <tr>\n",
       "      <th>2</th>\n",
       "      <td>2710</td>\n",
       "      <td>2463</td>\n",
       "      <td>2</td>\n",
       "      <td>3</td>\n",
       "      <td>80.0</td>\n",
       "      <td>1</td>\n",
       "      <td>11</td>\n",
       "      <td>2</td>\n",
       "    </tr>\n",
       "    <tr>\n",
       "      <th>3</th>\n",
       "      <td>2710</td>\n",
       "      <td>1355</td>\n",
       "      <td>2</td>\n",
       "      <td>3</td>\n",
       "      <td>80.0</td>\n",
       "      <td>1</td>\n",
       "      <td>11</td>\n",
       "      <td>2</td>\n",
       "    </tr>\n",
       "    <tr>\n",
       "      <th>4</th>\n",
       "      <td>1460</td>\n",
       "      <td>7327</td>\n",
       "      <td>2</td>\n",
       "      <td>3</td>\n",
       "      <td>75.0</td>\n",
       "      <td>1</td>\n",
       "      <td>4</td>\n",
       "      <td>2</td>\n",
       "    </tr>\n",
       "  </tbody>\n",
       "</table>\n",
       "</div>"
      ],
      "text/plain": [
       "   lesion_id  image_id  dx  dx_type   age  sex  localization  diagnosis\n",
       "0        118      3113   2        3  80.0    1            11          2\n",
       "1        118       724   2        3  80.0    1            11          2\n",
       "2       2710      2463   2        3  80.0    1            11          2\n",
       "3       2710      1355   2        3  80.0    1            11          2\n",
       "4       1460      7327   2        3  75.0    1             4          2"
      ]
     },
     "execution_count": 15,
     "metadata": {},
     "output_type": "execute_result"
    }
   ],
   "source": [
    "df1.head()"
   ]
  },
  {
   "cell_type": "markdown",
   "id": "6b5a16ab-73c3-4f30-856a-cc61f57c30c9",
   "metadata": {},
   "source": [
    "## Create a column for dianogsis where 1 = cancer and 0 = benign."
   ]
  },
  {
   "cell_type": "code",
   "execution_count": null,
   "id": "bda968c7-794a-457d-be55-0e92ac917717",
   "metadata": {},
   "outputs": [],
   "source": [
    "# Create a new column 'diagnosis' based on conditions\n",
    "df['diagnosis'] = np.where(df['dx'].isin(['nv', 'bkl', 'df']), 0, 1)\n",
    "\n",
    "# Display the DataFrame with the new column\n",
    "print(df.head())\n",
    "print(df.tail())"
   ]
  },
  {
   "cell_type": "markdown",
   "id": "b9aad8cb-0480-4562-b3c1-2992a8a0a39b",
   "metadata": {},
   "source": [
    "### 2. Separate the features `X` from the target `y`"
   ]
  },
  {
   "cell_type": "code",
   "execution_count": null,
   "id": "5976af55-6896-4de7-9e1f-5b8732997c2f",
   "metadata": {},
   "outputs": [],
   "source": [
    "# Features (X): Considering 'age', 'sex', and 'localization' as features\n",
    "X = df[['age', 'sex', 'localization']]\n",
    "\n",
    "# Target variable (y): 'diagnosis'\n",
    "y = df['diagnosis']"
   ]
  },
  {
   "cell_type": "code",
   "execution_count": null,
   "id": "e1002b2f-7b81-4048-bf0b-15de1b5544a0",
   "metadata": {},
   "outputs": [],
   "source": [
    "# Preview the features data\n",
    "X.head()"
   ]
  },
  {
   "cell_type": "code",
   "execution_count": null,
   "id": "91db2e46-e600-4f4a-9474-b5b141b36c1d",
   "metadata": {},
   "outputs": [],
   "source": [
    "# Preview the first five entries for the target variable\n",
    "y[:5]"
   ]
  },
  {
   "cell_type": "markdown",
   "id": "ce78b5d4-76d7-4130-bcb5-52fd8d025327",
   "metadata": {},
   "source": [
    "### 3. Encode the categorical variables from the features data using `get_dummies`."
   ]
  },
  {
   "cell_type": "code",
   "execution_count": null,
   "id": "2cd37fd0-c36a-4e7a-a8ec-7991e68d23ff",
   "metadata": {},
   "outputs": [],
   "source": [
    "# Perform one-hot encoding on categorical variables\n",
    "X = pd.get_dummies(X, columns=['sex', 'localization'], drop_first=True)"
   ]
  },
  {
   "cell_type": "code",
   "execution_count": null,
   "id": "530a9f9e-9600-43a9-bfc0-a1d2e118d102",
   "metadata": {},
   "outputs": [],
   "source": [
    "# Review the features data\n",
    "X.head()"
   ]
  },
  {
   "cell_type": "markdown",
   "id": "915c7ff5-2db5-435b-bd37-51bbdc4ebcd2",
   "metadata": {},
   "source": [
    "### 4. Separate the data into training and testing subsets."
   ]
  },
  {
   "cell_type": "code",
   "execution_count": null,
   "id": "98971201-9464-4d80-9972-ae28a0590ba2",
   "metadata": {},
   "outputs": [],
   "source": [
    "# Split the dataset using train_test_split\n",
    "# X_train, X_test, y_train, y_test = train_test_split(X, y, random_state=1)\n",
    "\n",
    "# Splitting the data into training and testing sets (80% train, 20% test)\n",
    "X_train, X_test, y_train, y_test = train_test_split(X, y, test_size=0.2, random_state=42)\n"
   ]
  },
  {
   "cell_type": "markdown",
   "id": "64b73d7b-9089-4d54-bc36-a57880550e9c",
   "metadata": {},
   "source": [
    "### 5. Scale the data using `StandardScaler`"
   ]
  },
  {
   "cell_type": "code",
   "execution_count": null,
   "id": "f3647538-6b8e-47fc-841b-4eb4a75174cb",
   "metadata": {},
   "outputs": [],
   "source": [
    "# Instantiate a StandardScaler instance\n",
    "scaler = StandardScaler()\n",
    "\n",
    "# Fit the training data to the standard scaler\n",
    "X_scaler = scaler.fit(X_train)\n",
    "\n",
    "# Transform the training data using the scaler\n",
    "X_train_scaled = X_scaler.transform(X_train)\n",
    "\n",
    "# Transform the testing data using the scaler\n",
    "X_test_scaled = X_scaler.transform(X_test)"
   ]
  },
  {
   "cell_type": "markdown",
   "id": "01def051-fadb-41cf-868a-3fec566a427e",
   "metadata": {},
   "source": [
    "### 6. Building and Training the Logistic Regression Model"
   ]
  },
  {
   "cell_type": "code",
   "execution_count": null,
   "id": "b151f55a-5253-4b9e-92d3-0c2b32f34c25",
   "metadata": {},
   "outputs": [],
   "source": [
    "from sklearn.linear_model import LogisticRegression\n",
    "\n",
    "# Initialize the Logistic Regression model\n",
    "logreg = LogisticRegression()\n",
    "\n",
    "# Fit the model on the training data\n",
    "logreg.fit(X_train, y_train)\n"
   ]
  },
  {
   "cell_type": "markdown",
   "id": "06a7d586-cb19-4816-8c6c-37dd60bcb560",
   "metadata": {},
   "source": [
    "### 7. Fit the model using the training data."
   ]
  },
  {
   "cell_type": "code",
   "execution_count": null,
   "id": "a54c6d75-d2bc-48f6-98e0-cb3b22858a4a",
   "metadata": {},
   "outputs": [],
   "source": [
    "from sklearn.metrics import accuracy_score, classification_report\n",
    "\n",
    "# Predict on the test set\n",
    "y_pred = logreg.predict(X_test)\n",
    "\n",
    "# Calculate accuracy\n",
    "accuracy = accuracy_score(y_test, y_pred)\n",
    "print(f\"Accuracy: {accuracy}\")\n",
    "\n",
    "# Classification report\n",
    "print(classification_report(y_test, y_pred))"
   ]
  },
  {
   "cell_type": "markdown",
   "id": "cdbd2a6f-d4dc-448e-ab97-1243c262d36c",
   "metadata": {},
   "source": [
    "### 8. Make predictions using the testing data."
   ]
  },
  {
   "cell_type": "code",
   "execution_count": null,
   "id": "7ba8a276-92f1-409e-b51e-b5e58f6b2fca",
   "metadata": {},
   "outputs": [],
   "source": [
    "# Assuming new_data contains new instances in the same format as the training data\n",
    "# Preprocess new_data similarly before making predictions\n",
    "\n",
    "# Predict on new data\n",
    "new_data_predictions = logreg.predict(new_data)\n"
   ]
  },
  {
   "cell_type": "markdown",
   "id": "dffab446-aa11-4b59-9c3e-d636655635b6",
   "metadata": {},
   "source": [
    "### 9. Generate the classification report for the test data."
   ]
  },
  {
   "cell_type": "code",
   "execution_count": null,
   "id": "82774cc1-1bcd-41b8-8569-44c7f6c7c1a9",
   "metadata": {},
   "outputs": [],
   "source": [
    "# Print the classification report comparing the testing data to the model predictions\n",
    "print(classification_report(y_test, y_pred))"
   ]
  },
  {
   "cell_type": "code",
   "execution_count": null,
   "id": "3854dc34-0fe9-4cac-9cfe-ff31e4f619ce",
   "metadata": {},
   "outputs": [],
   "source": []
  },
  {
   "cell_type": "code",
   "execution_count": null,
   "id": "929aa975-9284-4907-815b-617378807108",
   "metadata": {},
   "outputs": [],
   "source": [
    "# Initiate the classifier model\n",
    "classifier = LogisticRegression(max_iter=1000)\n",
    "\n",
    "# Split the data into training and testing sets \n",
    "X_train, X_test, y_train, y_test = train_test_split(X1, y1, test_size=0.2, random_state=0)\n",
    "\n",
    "X_scaler = StandardScaler().fit(X_train)\n",
    "\n",
    "X_train_scaled = X_scaler.transform(X_train)\n",
    "X_test_scaled = X_scaler.transform(X_test)\n",
    "\n",
    "# Save the scaler to the \"Model_Saved\" folder\n",
    "# joblib.dump(X_scaler, f\"Model_Saved/{name}_X_scaler.joblib\")\n",
    "\n",
    "# Fit, train and test the model\n",
    "model = classifier.fit(X_train_scaled, y_train)\n",
    "print('Healthy vs the rest')\n",
    "print(f\"Training Data Score: {classifier.score(X_train_scaled, y_train)}\")\n",
    "print(f\"Testing Data Score: {classifier.score(X_test_scaled, y_test)}\")\n",
    "\n",
    "# Make predictions on the test data\n",
    "y_pred = model.predict(X_test_scaled)\n",
    "\n",
    "# Calculate the accuracy of the model\n",
    "accuracy = accuracy_score(y_test, y_pred)\n",
    "print('Accuracy: {:.2f}%'.format(accuracy * 100))\n",
    "\n",
    "# Print classification report\n",
    "target_names = ['Healthy', 'Cancer_Pre-cancer']\n",
    "print(classification_report(y_test, y_pred, target_names=target_names))\n",
    "\n",
    "# Plot ROC curve\n",
    "y_pred_prob = model.predict_proba(X_test_scaled)[:,1]\n",
    "fpr, tpr, thresholds = roc_curve(y_test, y_pred_prob)\n",
    "\n",
    "plt.figure()\n",
    "plt.plot(fpr, tpr, color='darkorange')\n",
    "plt.plot([0, 1], [0, 1], color='navy', linestyle='--')\n",
    "plt.xlim([0.0, 1.0])\n",
    "plt.ylim([0.0, 1.05])\n",
    "plt.xlabel('False Positive Rate')\n",
    "plt.ylabel('True Positive Rate')\n",
    "plt.title('ROC Curve - Logistic Regression Model')\n",
    "plt.show()"
   ]
  }
 ],
 "metadata": {
  "kernelspec": {
   "display_name": "PythonData",
   "language": "python",
   "name": "pythondata"
  },
  "language_info": {
   "codemirror_mode": {
    "name": "ipython",
    "version": 3
   },
   "file_extension": ".py",
   "mimetype": "text/x-python",
   "name": "python",
   "nbconvert_exporter": "python",
   "pygments_lexer": "ipython3",
   "version": "3.11.5"
  }
 },
 "nbformat": 4,
 "nbformat_minor": 5
}
